{
 "cells": [
  {
   "cell_type": "code",
   "execution_count": null,
   "metadata": {},
   "outputs": [],
   "source": [
    "請至以下機器學習巨頭的 blog 參觀，試著閱讀一篇文章並分析其 \n",
    "作業 1：目標\n",
    "Google Duplex: An AI System for Accomplishing Real-World Tasks Over the Phone  \n",
    "利用Duplex 技術來做語音對話 AI Chatbot，聽起來很自然，可以用作24小時客戶服務。\n",
    "AI 對話有幾個挑戰：語言難以理解，人類行為難以建模，延遲期望需要快速處理，並且使用適當的語調生成自然的聲音語音是困難的。\n",
    " \n",
    "作業 2：方法\n",
    "利用遞歸神經網絡（RNN）和使用TensorFlow Extended（TFX）構建。\n",
    " \n",
    "作業 3：資料來源 \n",
    "Google AI Blog: \n",
    "https://ai.googleblog.com/2018/05/duplex-ai-system-for-natural-conversation.html\n",
    "\n"
   ]
  }
 ],
 "metadata": {
  "kernelspec": {
   "display_name": "Python 3",
   "language": "python",
   "name": "python3"
  },
  "language_info": {
   "codemirror_mode": {
    "name": "ipython",
    "version": 3
   },
   "file_extension": ".py",
   "mimetype": "text/x-python",
   "name": "python",
   "nbconvert_exporter": "python",
   "pygments_lexer": "ipython3",
   "version": "3.7.0"
  }
 },
 "nbformat": 4,
 "nbformat_minor": 2
}
