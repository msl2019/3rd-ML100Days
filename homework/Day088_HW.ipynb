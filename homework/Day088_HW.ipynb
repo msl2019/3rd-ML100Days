{
 "cells": [
  {
   "cell_type": "markdown",
   "metadata": {},
   "source": [
    "## Work\n",
    "1. 請嘗試寫一個 callback 用來記錄各類別在訓練過程中，對驗證集的 True Positive 與 True Negative"
   ]
  },
  {
   "cell_type": "code",
   "execution_count": 2,
   "metadata": {},
   "outputs": [],
   "source": [
    "import os\n",
    "import keras\n",
    "import warnings\n",
    "warnings.filterwarnings('ignore')\n",
    "\n",
    "# Disable GPU\n",
    "os.environ[\"CUDA_VISIBLE_DEVICES\"] = \"\""
   ]
  },
  {
   "cell_type": "code",
   "execution_count": 3,
   "metadata": {},
   "outputs": [],
   "source": [
    "train, test = keras.datasets.cifar10.load_data()"
   ]
  },
  {
   "cell_type": "code",
   "execution_count": 11,
   "metadata": {},
   "outputs": [],
   "source": [
    "## 資料前處理\n",
    "def preproc_x(x, flatten=True):\n",
    "    x = x / 255.\n",
    "    if flatten:\n",
    "        x = x.reshape((len(x), -1))\n",
    "    return x\n",
    "\n",
    "def preproc_y(y, num_classes=10):\n",
    "    if y.shape[-1] == 1:\n",
    "        y = keras.utils.to_categorical(y, num_classes)\n",
    "    return y    "
   ]
  },
  {
   "cell_type": "code",
   "execution_count": 12,
   "metadata": {},
   "outputs": [],
   "source": [
    "x_train, y_train = train\n",
    "x_test, y_test = test\n",
    "\n",
    "# Preproc the inputs\n",
    "x_train = preproc_x(x_train)\n",
    "x_test = preproc_x(x_test)\n",
    "\n",
    "# Preprc the outputs\n",
    "y_train = preproc_y(y_train)\n",
    "y_test = preproc_y(y_test)"
   ]
  },
  {
   "cell_type": "code",
   "execution_count": 13,
   "metadata": {},
   "outputs": [],
   "source": [
    "from keras.layers import BatchNormalization\n",
    "def build_mlp(input_shape, output_units=10, num_neurons=[256, 256, 256]):\n",
    "    input_layer = keras.layers.Input(input_shape)\n",
    "    \n",
    "    for i, n_units in enumerate(num_neurons):\n",
    "        if i == 0:\n",
    "            x = keras.layers.Dense(units=n_units, \n",
    "                                   activation=\"relu\", \n",
    "                                   name=\"hidden_layer\"+str(i+1))(input_layer)\n",
    "            x = BatchNormalization()(x)\n",
    "        else:\n",
    "            x = keras.layers.Dense(units=n_units, \n",
    "                                   activation=\"relu\", \n",
    "                                   name=\"hidden_layer\"+str(i+1))(x)\n",
    "            x = BatchNormalization()(x)\n",
    "    \n",
    "    out = keras.layers.Dense(units=output_units, activation=\"softmax\", name=\"output\")(x)\n",
    "    \n",
    "    model = keras.models.Model(inputs=[input_layer], outputs=[out])\n",
    "    \n",
    "    return model"
   ]
  },
  {
   "cell_type": "code",
   "execution_count": 14,
   "metadata": {},
   "outputs": [],
   "source": [
    "## 超參數設定\n",
    "LEARNING_RATE = 1e-3\n",
    "EPOCHS = 25\n",
    "BATCH_SIZE = 1024\n",
    "MOMENTUM = 0.95"
   ]
  },
  {
   "cell_type": "code",
   "execution_count": 15,
   "metadata": {},
   "outputs": [],
   "source": [
    "# 載入 Callbacks\n",
    "from keras.callbacks import Callback\n",
    "from sklearn.metrics import f1_score\n",
    "\n",
    "# Record_fp_tp\n",
    "class Record_tp_tn(Callback):\n",
    "    \"\"\"Code Here\n",
    "    撰寫一個紀錄 ture positive 與 true negative 數量的 callbacks    \n",
    "    \"\"\"\n",
    "    def on_train_begin(self, epoch, logs = {}):\n",
    "        logs = logs or {}\n",
    "        record_items = [\"val_fp\",\"val_tn\"]\n",
    "        for i in record_items:\n",
    "            if i not in self.params['metrics']:\n",
    "                self.params['metrics'].append(i)\n",
    "    \n",
    "    def on_epoch_end(self, epoch, logs = {}, thres=0.5):\n",
    "        logs = logs or {}\n",
    "        y_true = self.validation_data[1].argmax(axis = 1)\n",
    "        y_pred = self.model.predict(self.validation_data[0])\n",
    "        y_pred = (y_pred[:, 1] >= thres) * 1\n",
    "        \n",
    "        logs[\"val_tp\"] = sum((y_true==1) & (y_pred==1))\n",
    "        logs[\"val_tn\"] = sum((y_true==0) & (y_pred==0))\n",
    "        \n",
    "        \n",
    "        \n",
    "rec_tptn = Record_tp_tn()"
   ]
  },
  {
   "cell_type": "code",
   "execution_count": 16,
   "metadata": {
    "scrolled": true
   },
   "outputs": [
    {
     "name": "stdout",
     "output_type": "stream",
     "text": [
      "Model: \"model_2\"\n",
      "_________________________________________________________________\n",
      "Layer (type)                 Output Shape              Param #   \n",
      "=================================================================\n",
      "input_2 (InputLayer)         (None, 3072)              0         \n",
      "_________________________________________________________________\n",
      "hidden_layer1 (Dense)        (None, 256)               786688    \n",
      "_________________________________________________________________\n",
      "batch_normalization_4 (Batch (None, 256)               1024      \n",
      "_________________________________________________________________\n",
      "hidden_layer2 (Dense)        (None, 256)               65792     \n",
      "_________________________________________________________________\n",
      "batch_normalization_5 (Batch (None, 256)               1024      \n",
      "_________________________________________________________________\n",
      "hidden_layer3 (Dense)        (None, 256)               65792     \n",
      "_________________________________________________________________\n",
      "batch_normalization_6 (Batch (None, 256)               1024      \n",
      "_________________________________________________________________\n",
      "output (Dense)               (None, 10)                2570      \n",
      "=================================================================\n",
      "Total params: 923,914\n",
      "Trainable params: 922,378\n",
      "Non-trainable params: 1,536\n",
      "_________________________________________________________________\n",
      "Train on 50000 samples, validate on 10000 samples\n",
      "Epoch 1/25\n",
      "50000/50000 [==============================] - 11s 216us/step - loss: 2.2319 - accuracy: 0.2625 - val_loss: 2.1761 - val_accuracy: 0.1895\n",
      "Epoch 2/25\n",
      "50000/50000 [==============================] - 10s 201us/step - loss: 1.7701 - accuracy: 0.3793 - val_loss: 1.9840 - val_accuracy: 0.2943\n",
      "Epoch 3/25\n",
      "50000/50000 [==============================] - 10s 203us/step - loss: 1.6423 - accuracy: 0.4229 - val_loss: 1.8310 - val_accuracy: 0.3670\n",
      "Epoch 4/25\n",
      "50000/50000 [==============================] - 10s 202us/step - loss: 1.5712 - accuracy: 0.4499 - val_loss: 1.7258 - val_accuracy: 0.3997\n",
      "Epoch 5/25\n",
      "50000/50000 [==============================] - 10s 203us/step - loss: 1.5208 - accuracy: 0.4675 - val_loss: 1.6436 - val_accuracy: 0.4281\n",
      "Epoch 6/25\n",
      "50000/50000 [==============================] - 10s 201us/step - loss: 1.4777 - accuracy: 0.4834 - val_loss: 1.6096 - val_accuracy: 0.4398\n",
      "Epoch 7/25\n",
      "50000/50000 [==============================] - 10s 202us/step - loss: 1.4408 - accuracy: 0.4970 - val_loss: 1.5651 - val_accuracy: 0.4549\n",
      "Epoch 8/25\n",
      "50000/50000 [==============================] - 10s 208us/step - loss: 1.4068 - accuracy: 0.5101 - val_loss: 1.5411 - val_accuracy: 0.4618\n",
      "Epoch 9/25\n",
      "50000/50000 [==============================] - 11s 213us/step - loss: 1.3783 - accuracy: 0.5206 - val_loss: 1.5301 - val_accuracy: 0.4654\n",
      "Epoch 10/25\n",
      "50000/50000 [==============================] - 10s 196us/step - loss: 1.3533 - accuracy: 0.5311 - val_loss: 1.5180 - val_accuracy: 0.4713\n",
      "Epoch 11/25\n",
      "50000/50000 [==============================] - 10s 195us/step - loss: 1.3280 - accuracy: 0.5399 - val_loss: 1.4925 - val_accuracy: 0.4766\n",
      "Epoch 12/25\n",
      "50000/50000 [==============================] - 10s 196us/step - loss: 1.3051 - accuracy: 0.5486 - val_loss: 1.4858 - val_accuracy: 0.4805\n",
      "Epoch 13/25\n",
      "50000/50000 [==============================] - 10s 194us/step - loss: 1.2834 - accuracy: 0.5558 - val_loss: 1.4821 - val_accuracy: 0.4824\n",
      "Epoch 14/25\n",
      "50000/50000 [==============================] - 10s 194us/step - loss: 1.2632 - accuracy: 0.5631 - val_loss: 1.4750 - val_accuracy: 0.4831\n",
      "Epoch 15/25\n",
      "50000/50000 [==============================] - 10s 195us/step - loss: 1.2444 - accuracy: 0.5708 - val_loss: 1.4748 - val_accuracy: 0.4815\n",
      "Epoch 16/25\n",
      "50000/50000 [==============================] - 10s 197us/step - loss: 1.2229 - accuracy: 0.5782 - val_loss: 1.4610 - val_accuracy: 0.4920\n",
      "Epoch 17/25\n",
      "50000/50000 [==============================] - 10s 193us/step - loss: 1.2052 - accuracy: 0.5860 - val_loss: 1.4672 - val_accuracy: 0.4906\n",
      "Epoch 18/25\n",
      "50000/50000 [==============================] - 10s 195us/step - loss: 1.1873 - accuracy: 0.5917 - val_loss: 1.4592 - val_accuracy: 0.4959\n",
      "Epoch 19/25\n",
      "50000/50000 [==============================] - 10s 194us/step - loss: 1.1665 - accuracy: 0.5994 - val_loss: 1.4493 - val_accuracy: 0.4972\n",
      "Epoch 20/25\n",
      "50000/50000 [==============================] - 10s 196us/step - loss: 1.1505 - accuracy: 0.6051 - val_loss: 1.4783 - val_accuracy: 0.4909\n",
      "Epoch 21/25\n",
      "50000/50000 [==============================] - 10s 194us/step - loss: 1.1355 - accuracy: 0.6119 - val_loss: 1.4567 - val_accuracy: 0.4925\n",
      "Epoch 22/25\n",
      "50000/50000 [==============================] - 10s 195us/step - loss: 1.1162 - accuracy: 0.6186 - val_loss: 1.4540 - val_accuracy: 0.4971\n",
      "Epoch 23/25\n",
      "50000/50000 [==============================] - 10s 195us/step - loss: 1.1007 - accuracy: 0.6234 - val_loss: 1.4460 - val_accuracy: 0.4968\n",
      "Epoch 24/25\n",
      "50000/50000 [==============================] - 10s 196us/step - loss: 1.0827 - accuracy: 0.6312 - val_loss: 1.4394 - val_accuracy: 0.5020\n",
      "Epoch 25/25\n",
      "50000/50000 [==============================] - 10s 196us/step - loss: 1.0663 - accuracy: 0.6380 - val_loss: 1.4433 - val_accuracy: 0.5012\n"
     ]
    }
   ],
   "source": [
    "model = build_mlp(input_shape=x_train.shape[1:])\n",
    "model.summary()\n",
    "optimizer = keras.optimizers.SGD(lr=LEARNING_RATE, nesterov=True, momentum=MOMENTUM)\n",
    "model.compile(loss=\"categorical_crossentropy\", metrics=[\"accuracy\"], optimizer=optimizer)\n",
    "\n",
    "\"\"\"Code Here\n",
    "將 callbacks 放入模型訓練流程中\n",
    "\"\"\"\n",
    "\n",
    "model.fit(x_train, y_train, \n",
    "          epochs=EPOCHS, \n",
    "          batch_size=BATCH_SIZE, \n",
    "          validation_data=(x_test, y_test), \n",
    "          shuffle=True,\n",
    "          callbacks=[rec_tptn]\n",
    "         )\n",
    "\n",
    "# Collect results\n",
    "train_loss = model.history.history[\"loss\"]\n",
    "valid_loss = model.history.history[\"val_loss\"]\n",
    "train_acc = model.history.history[\"accuracy\"]\n",
    "valid_acc = model.history.history[\"val_accuracy\"]\n",
    "\n",
    "\"\"\"Code Here\n",
    "將 tp/tn 從訓練完的模型中取出\n",
    "\"\"\"\n",
    "valid_tp = model.history.history['val_tp']\n",
    "valid_tn = model.history.history['val_tn']"
   ]
  },
  {
   "cell_type": "code",
   "execution_count": 17,
   "metadata": {},
   "outputs": [
    {
     "data": {
      "image/png": "[encoded data removed]",
      "text/plain": [
       "<Figure size 432x288 with 1 Axes>"
      ]
     },
     "metadata": {
      "needs_background": "light"
     },
     "output_type": "display_data"
    },
    {
     "data": {
      "image/png": "[encoded data removed]",
      "text/plain": [
       "<Figure size 432x288 with 1 Axes>"
      ]
     },
     "metadata": {
      "needs_background": "light"
     },
     "output_type": "display_data"
    },
    {
     "data": {
      "image/png": "[encoded data removed]",
      "text/plain": [
       "<Figure size 432x288 with 1 Axes>"
      ]
     },
     "metadata": {
      "needs_background": "light"
     },
     "output_type": "display_data"
    }
   ],
   "source": [
    "import matplotlib.pyplot as plt\n",
    "%matplotlib inline\n",
    "\n",
    "plt.plot(range(len(train_loss)), train_loss, label=\"train loss\")\n",
    "plt.plot(range(len(valid_loss)), valid_loss, label=\"valid loss\")\n",
    "plt.legend()\n",
    "plt.title(\"Loss\")\n",
    "plt.show()\n",
    "\n",
    "plt.plot(range(len(train_acc)), train_acc, label=\"train accuracy\")\n",
    "plt.plot(range(len(valid_acc)), valid_acc, label=\"valid accuracy\")\n",
    "plt.legend()\n",
    "plt.title(\"Accuracy\")\n",
    "plt.show()\n",
    "\n",
    "plt.plot(range(len(valid_tp)), valid_tp, label=\"valid tp\", color=\"navy\")\n",
    "plt.plot(range(len(valid_tn)), valid_tn, label=\"valid tn\", color=\"red\")\n",
    "plt.legend()\n",
    "plt.title(\"True positives and True Negatives\")\n",
    "plt.show()\n"
   ]
  }
 ],
 "metadata": {
  "kernelspec": {
   "display_name": "Python 3",
   "language": "python",
   "name": "python3"
  },
  "language_info": {
   "codemirror_mode": {
    "name": "ipython",
    "version": 3
   },
   "file_extension": ".py",
   "mimetype": "text/x-python",
   "name": "python",
   "nbconvert_exporter": "python",
   "pygments_lexer": "ipython3",
   "version": "3.7.0"
  }
 },
 "nbformat": 4,
 "nbformat_minor": 2
}
