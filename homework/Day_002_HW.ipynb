{
 "cells": [
  {
   "cell_type": "code",
   "execution_count": null,
   "metadata": {},
   "outputs": [],
   "source": [
    "Day 2\n",
    "作業問題：思考題_請找出一個你認為機器學習可以發光發熱的領域並闡述原因?\n",
    " \n",
    "可以用在醫學上，在嚴重病人個案的大數據中，從而在新病人治療過程，得到更快及最合適的治療。\n",
    "例如癌症，可以利用病人家族病史和基因資料、飲食習慣、生活環境、發病過程，病人不同時期的健康指數和治療過程等數據，嘗試找到不同病人的治療過程的分類和分析這些數據。\n"
   ]
  }
 ],
 "metadata": {
  "kernelspec": {
   "display_name": "Python 3",
   "language": "python",
   "name": "python3"
  },
  "language_info": {
   "codemirror_mode": {
    "name": "ipython",
    "version": 3
   },
   "file_extension": ".py",
   "mimetype": "text/x-python",
   "name": "python",
   "nbconvert_exporter": "python",
   "pygments_lexer": "ipython3",
   "version": "3.7.0"
  }
 },
 "nbformat": 4,
 "nbformat_minor": 2
}
