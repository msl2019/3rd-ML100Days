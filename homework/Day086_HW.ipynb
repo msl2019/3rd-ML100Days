{
 "cells": [
  {
   "cell_type": "markdown",
   "metadata": {},
   "source": [
    "## Work\n",
    "1. 試比較 save_best_only 與否的差異\n",
    "2. 請僅存入將 save_weights_only 設定為 True, 並嘗試 reset ipynb 並將模型與權重重新建回並預測 x_test"
   ]
  },
  {
   "cell_type": "code",
   "execution_count": 1,
   "metadata": {},
   "outputs": [
    {
     "name": "stderr",
     "output_type": "stream",
     "text": [
      "Using TensorFlow backend.\n"
     ]
    }
   ],
   "source": [
    "import os\n",
    "import keras\n",
    "\n",
    "# Disable GPU\n",
    "os.environ[\"CUDA_VISIBLE_DEVICES\"] = \"\""
   ]
  },
  {
   "cell_type": "code",
   "execution_count": 2,
   "metadata": {},
   "outputs": [],
   "source": [
    "train, test = keras.datasets.cifar10.load_data()"
   ]
  },
  {
   "cell_type": "code",
   "execution_count": 26,
   "metadata": {},
   "outputs": [],
   "source": [
    "## 資料前處理\n",
    "def preproc_x(x, flatten=True):\n",
    "    x = x / 255.\n",
    "    if flatten:\n",
    "        x = x.reshape((len(x), -1))\n",
    "    return x\n",
    "\n",
    "def preproc_y(y, num_classes=10):\n",
    "    if y.shape[-1] == 1:\n",
    "        y = keras.utils.to_categorical(y, num_classes)\n",
    "    return y    "
   ]
  },
  {
   "cell_type": "code",
   "execution_count": 27,
   "metadata": {},
   "outputs": [],
   "source": [
    "x_train, y_train = train\n",
    "x_test, y_test = test\n",
    "\n",
    "# Preproc the inputs\n",
    "x_train = preproc_x(x_train)\n",
    "x_test = preproc_x(x_test)\n",
    "\n",
    "# Preprc the outputs\n",
    "y_train = preproc_y(y_train)\n",
    "y_test = preproc_y(y_test)"
   ]
  },
  {
   "cell_type": "code",
   "execution_count": 28,
   "metadata": {},
   "outputs": [],
   "source": [
    "from keras.layers import BatchNormalization\n",
    "\n",
    "\"\"\"\n",
    "建立神經網路，並加入 BN layer\n",
    "\"\"\"\n",
    "def build_mlp(input_shape, output_units=10, num_neurons=[512, 256, 128]):\n",
    "    input_layer = keras.layers.Input(input_shape)\n",
    "    \n",
    "    for i, n_units in enumerate(num_neurons):\n",
    "        if i == 0:\n",
    "            x = keras.layers.Dense(units=n_units, \n",
    "                                   activation=\"relu\", \n",
    "                                   name=\"hidden_layer\"+str(i+1))(input_layer)\n",
    "            x = BatchNormalization()(x)\n",
    "        else:\n",
    "            x = keras.layers.Dense(units=n_units, \n",
    "                                   activation=\"relu\", \n",
    "                                   name=\"hidden_layer\"+str(i+1))(x)\n",
    "            x = BatchNormalization()(x)\n",
    "    \n",
    "    out = keras.layers.Dense(units=output_units, activation=\"softmax\", name=\"output\")(x)\n",
    "    \n",
    "    model = keras.models.Model(inputs=[input_layer], outputs=[out])\n",
    "    return model"
   ]
  },
  {
   "cell_type": "code",
   "execution_count": 29,
   "metadata": {},
   "outputs": [],
   "source": [
    "LEARNING_RATE = 1e-3\n",
    "EPOCHS = 50\n",
    "BATCH_SIZE = 1024\n",
    "MOMENTUM = 0.95"
   ]
  },
  {
   "cell_type": "code",
   "execution_count": 7,
   "metadata": {},
   "outputs": [],
   "source": [
    "from keras.callbacks import ModelCheckpoint\n",
    "\n",
    "model_ckpt = ModelCheckpoint(filepath=\"./tmp.h5\", \n",
    "                             monitor=\"val_loss\", \n",
    "                             save_best_only=True)"
   ]
  },
  {
   "cell_type": "code",
   "execution_count": 8,
   "metadata": {},
   "outputs": [
    {
     "name": "stdout",
     "output_type": "stream",
     "text": [
      "Model: \"model_1\"\n",
      "_________________________________________________________________\n",
      "Layer (type)                 Output Shape              Param #   \n",
      "=================================================================\n",
      "input_1 (InputLayer)         (None, 3072)              0         \n",
      "_________________________________________________________________\n",
      "hidden_layer1 (Dense)        (None, 512)               1573376   \n",
      "_________________________________________________________________\n",
      "batch_normalization_1 (Batch (None, 512)               2048      \n",
      "_________________________________________________________________\n",
      "hidden_layer2 (Dense)        (None, 256)               131328    \n",
      "_________________________________________________________________\n",
      "batch_normalization_2 (Batch (None, 256)               1024      \n",
      "_________________________________________________________________\n",
      "hidden_layer3 (Dense)        (None, 128)               32896     \n",
      "_________________________________________________________________\n",
      "batch_normalization_3 (Batch (None, 128)               512       \n",
      "_________________________________________________________________\n",
      "output (Dense)               (None, 10)                1290      \n",
      "=================================================================\n",
      "Total params: 1,742,474\n",
      "Trainable params: 1,740,682\n",
      "Non-trainable params: 1,792\n",
      "_________________________________________________________________\n",
      "Train on 50000 samples, validate on 10000 samples\n",
      "Epoch 1/50\n",
      "50000/50000 [==============================] - 20s 398us/step - loss: 2.1939 - accuracy: 0.2713 - val_loss: 2.1303 - val_accuracy: 0.1992\n",
      "Epoch 2/50\n",
      "50000/50000 [==============================] - 16s 328us/step - loss: 1.7472 - accuracy: 0.3926 - val_loss: 1.9715 - val_accuracy: 0.2869\n",
      "Epoch 3/50\n",
      "50000/50000 [==============================] - 16s 326us/step - loss: 1.6253 - accuracy: 0.4324 - val_loss: 1.8184 - val_accuracy: 0.3807\n",
      "Epoch 4/50\n",
      "50000/50000 [==============================] - 17s 336us/step - loss: 1.5544 - accuracy: 0.4547 - val_loss: 1.7233 - val_accuracy: 0.4072\n",
      "Epoch 5/50\n",
      "50000/50000 [==============================] - 16s 315us/step - loss: 1.5009 - accuracy: 0.4779 - val_loss: 1.6439 - val_accuracy: 0.4308\n",
      "Epoch 6/50\n",
      "50000/50000 [==============================] - 16s 329us/step - loss: 1.4536 - accuracy: 0.4942 - val_loss: 1.6014 - val_accuracy: 0.4403\n",
      "Epoch 7/50\n",
      "50000/50000 [==============================] - 16s 329us/step - loss: 1.4143 - accuracy: 0.5079 - val_loss: 1.5495 - val_accuracy: 0.4541\n",
      "Epoch 8/50\n",
      "50000/50000 [==============================] - 16s 318us/step - loss: 1.3794 - accuracy: 0.5213 - val_loss: 1.5363 - val_accuracy: 0.4613\n",
      "Epoch 9/50\n",
      "50000/50000 [==============================] - 16s 316us/step - loss: 1.3477 - accuracy: 0.5340 - val_loss: 1.5122 - val_accuracy: 0.4643\n",
      "Epoch 10/50\n",
      "50000/50000 [==============================] - 15s 309us/step - loss: 1.3168 - accuracy: 0.5434 - val_loss: 1.4983 - val_accuracy: 0.4710\n",
      "Epoch 11/50\n",
      "50000/50000 [==============================] - 16s 313us/step - loss: 1.2871 - accuracy: 0.5539 - val_loss: 1.4858 - val_accuracy: 0.4764\n",
      "Epoch 12/50\n",
      "50000/50000 [==============================] - 16s 310us/step - loss: 1.2599 - accuracy: 0.5641 - val_loss: 1.4786 - val_accuracy: 0.4809\n",
      "Epoch 13/50\n",
      "50000/50000 [==============================] - 16s 311us/step - loss: 1.2336 - accuracy: 0.5742 - val_loss: 1.4681 - val_accuracy: 0.4812\n",
      "Epoch 14/50\n",
      "50000/50000 [==============================] - 16s 313us/step - loss: 1.2084 - accuracy: 0.5835 - val_loss: 1.4782 - val_accuracy: 0.4783\n",
      "Epoch 15/50\n",
      "50000/50000 [==============================] - 16s 314us/step - loss: 1.1823 - accuracy: 0.5946 - val_loss: 1.4675 - val_accuracy: 0.4830\n",
      "Epoch 16/50\n",
      "50000/50000 [==============================] - 15s 309us/step - loss: 1.1574 - accuracy: 0.6012 - val_loss: 1.4610 - val_accuracy: 0.4877\n",
      "Epoch 17/50\n",
      "50000/50000 [==============================] - 16s 310us/step - loss: 1.1358 - accuracy: 0.6120 - val_loss: 1.4570 - val_accuracy: 0.4876\n",
      "Epoch 18/50\n",
      "50000/50000 [==============================] - 16s 313us/step - loss: 1.1122 - accuracy: 0.6196 - val_loss: 1.4563 - val_accuracy: 0.4906\n",
      "Epoch 19/50\n",
      "50000/50000 [==============================] - 16s 311us/step - loss: 1.0888 - accuracy: 0.6294 - val_loss: 1.4606 - val_accuracy: 0.4890\n",
      "Epoch 20/50\n",
      "50000/50000 [==============================] - 16s 310us/step - loss: 1.0670 - accuracy: 0.6371 - val_loss: 1.4581 - val_accuracy: 0.4881\n",
      "Epoch 21/50\n",
      "50000/50000 [==============================] - 15s 308us/step - loss: 1.0432 - accuracy: 0.6458 - val_loss: 1.4591 - val_accuracy: 0.4903\n",
      "Epoch 22/50\n",
      "50000/50000 [==============================] - 15s 309us/step - loss: 1.0230 - accuracy: 0.6545 - val_loss: 1.4523 - val_accuracy: 0.4946\n",
      "Epoch 23/50\n",
      "50000/50000 [==============================] - 17s 334us/step - loss: 1.0003 - accuracy: 0.6621 - val_loss: 1.4617 - val_accuracy: 0.4887\n",
      "Epoch 24/50\n",
      "50000/50000 [==============================] - 18s 362us/step - loss: 0.9799 - accuracy: 0.6704 - val_loss: 1.4634 - val_accuracy: 0.4912\n",
      "Epoch 25/50\n",
      "50000/50000 [==============================] - 15s 310us/step - loss: 0.9601 - accuracy: 0.6781 - val_loss: 1.4695 - val_accuracy: 0.4932\n",
      "Epoch 26/50\n",
      "50000/50000 [==============================] - 16s 310us/step - loss: 0.9368 - accuracy: 0.6874 - val_loss: 1.4610 - val_accuracy: 0.4922\n",
      "Epoch 27/50\n",
      "50000/50000 [==============================] - 16s 321us/step - loss: 0.9171 - accuracy: 0.6935 - val_loss: 1.4754 - val_accuracy: 0.4964\n",
      "Epoch 28/50\n",
      "50000/50000 [==============================] - 18s 357us/step - loss: 0.8975 - accuracy: 0.7020 - val_loss: 1.4852 - val_accuracy: 0.4935\n",
      "Epoch 29/50\n",
      "50000/50000 [==============================] - 15s 310us/step - loss: 0.8752 - accuracy: 0.7099 - val_loss: 1.4875 - val_accuracy: 0.4922\n",
      "Epoch 30/50\n",
      "50000/50000 [==============================] - 16s 314us/step - loss: 0.8567 - accuracy: 0.7171 - val_loss: 1.4740 - val_accuracy: 0.4934\n",
      "Epoch 31/50\n",
      "50000/50000 [==============================] - 15s 308us/step - loss: 0.8342 - accuracy: 0.7275 - val_loss: 1.4799 - val_accuracy: 0.4954\n",
      "Epoch 32/50\n",
      "50000/50000 [==============================] - 19s 384us/step - loss: 0.8144 - accuracy: 0.7357 - val_loss: 1.5166 - val_accuracy: 0.4892\n",
      "Epoch 33/50\n",
      "50000/50000 [==============================] - 16s 312us/step - loss: 0.7954 - accuracy: 0.7423 - val_loss: 1.4970 - val_accuracy: 0.4942\n",
      "Epoch 34/50\n",
      "50000/50000 [==============================] - 15s 308us/step - loss: 0.7758 - accuracy: 0.7496 - val_loss: 1.5092 - val_accuracy: 0.4922\n",
      "Epoch 35/50\n",
      "50000/50000 [==============================] - 19s 373us/step - loss: 0.7561 - accuracy: 0.7568 - val_loss: 1.5113 - val_accuracy: 0.4952\n",
      "Epoch 36/50\n",
      "50000/50000 [==============================] - 16s 325us/step - loss: 0.7345 - accuracy: 0.7654 - val_loss: 1.5177 - val_accuracy: 0.4934\n",
      "Epoch 37/50\n",
      "50000/50000 [==============================] - 16s 320us/step - loss: 0.7184 - accuracy: 0.7719 - val_loss: 1.5403 - val_accuracy: 0.4890\n",
      "Epoch 38/50\n",
      "50000/50000 [==============================] - 23s 469us/step - loss: 0.6979 - accuracy: 0.7805 - val_loss: 1.5448 - val_accuracy: 0.4914\n",
      "Epoch 39/50\n",
      "50000/50000 [==============================] - 18s 356us/step - loss: 0.6768 - accuracy: 0.7894 - val_loss: 1.5521 - val_accuracy: 0.4916\n",
      "Epoch 40/50\n",
      "50000/50000 [==============================] - 24s 478us/step - loss: 0.6589 - accuracy: 0.7961 - val_loss: 1.5687 - val_accuracy: 0.4908\n",
      "Epoch 41/50\n",
      "50000/50000 [==============================] - 17s 347us/step - loss: 0.6406 - accuracy: 0.8048 - val_loss: 1.5664 - val_accuracy: 0.4986\n",
      "Epoch 42/50\n",
      "50000/50000 [==============================] - 21s 421us/step - loss: 0.6237 - accuracy: 0.8110 - val_loss: 1.5858 - val_accuracy: 0.4898\n",
      "Epoch 43/50\n",
      "50000/50000 [==============================] - 21s 413us/step - loss: 0.6059 - accuracy: 0.8175 - val_loss: 1.5951 - val_accuracy: 0.4937\n",
      "Epoch 44/50\n",
      "50000/50000 [==============================] - 18s 360us/step - loss: 0.5877 - accuracy: 0.8242 - val_loss: 1.6008 - val_accuracy: 0.4967\n",
      "Epoch 45/50\n",
      "50000/50000 [==============================] - 24s 489us/step - loss: 0.5689 - accuracy: 0.8324 - val_loss: 1.6281 - val_accuracy: 0.4885\n"
     ]
    },
    {
     "name": "stdout",
     "output_type": "stream",
     "text": [
      "Epoch 46/50\n",
      "50000/50000 [==============================] - 18s 353us/step - loss: 0.5518 - accuracy: 0.8381 - val_loss: 1.6448 - val_accuracy: 0.4852\n",
      "Epoch 47/50\n",
      "50000/50000 [==============================] - 23s 460us/step - loss: 0.5327 - accuracy: 0.8463 - val_loss: 1.6425 - val_accuracy: 0.4891\n",
      "Epoch 48/50\n",
      "50000/50000 [==============================] - 17s 346us/step - loss: 0.5145 - accuracy: 0.8536 - val_loss: 1.6636 - val_accuracy: 0.4900\n",
      "Epoch 49/50\n",
      "50000/50000 [==============================] - 22s 447us/step - loss: 0.5000 - accuracy: 0.8592 - val_loss: 1.7014 - val_accuracy: 0.4813\n",
      "Epoch 50/50\n",
      "50000/50000 [==============================] - 22s 441us/step - loss: 0.4827 - accuracy: 0.8658 - val_loss: 1.6884 - val_accuracy: 0.4844\n",
      "10000/10000 [==============================] - 3s 267us/step\n"
     ]
    }
   ],
   "source": [
    "model = build_mlp(input_shape=x_train.shape[1:])\n",
    "model.summary()\n",
    "optimizer = keras.optimizers.SGD(lr=LEARNING_RATE, nesterov=True, momentum=MOMENTUM)\n",
    "model.compile(loss=\"categorical_crossentropy\", metrics=[\"accuracy\"], optimizer=optimizer)\n",
    "\n",
    "model.fit(x_train, y_train, \n",
    "          epochs=EPOCHS, \n",
    "          batch_size=BATCH_SIZE, \n",
    "          validation_data=(x_test, y_test), \n",
    "          shuffle=True,\n",
    "          callbacks=[model_ckpt]\n",
    "         )\n",
    "\n",
    "# Collect results\n",
    "train_loss = model.history.history[\"loss\"]\n",
    "valid_loss = model.history.history[\"val_loss\"]\n",
    "train_acc = model.history.history[\"accuracy\"]\n",
    "valid_acc = model.history.history[\"val_accuracy\"]\n",
    "\n",
    "# Load back\n",
    "model = keras.models.load_model(\"./tmp.h5\")\n",
    "loss_loadback, acc_loadback = model.evaluate(x_test, y_test)"
   ]
  },
  {
   "cell_type": "code",
   "execution_count": 9,
   "metadata": {
    "scrolled": true
   },
   "outputs": [
    {
     "data": {
      "image/png": "[encoded data removed]",
      "text/plain": [
       "<Figure size 432x288 with 1 Axes>"
      ]
     },
     "metadata": {
      "needs_background": "light"
     },
     "output_type": "display_data"
    },
    {
     "data": {
      "image/png": "[encoded data removed]",
      "text/plain": [
       "<Figure size 432x288 with 1 Axes>"
      ]
     },
     "metadata": {
      "needs_background": "light"
     },
     "output_type": "display_data"
    }
   ],
   "source": [
    "import matplotlib.pyplot as plt\n",
    "%matplotlib inline\n",
    "\n",
    "plt.plot(range(len(train_loss)), train_loss, label=\"train loss\")\n",
    "plt.plot(range(len(valid_loss)), valid_loss, label=\"valid loss\")\n",
    "plt.hlines(y=loss_loadback, xmin=0, xmax=len(train_loss), colors='r', linestyles='--')\n",
    "plt.legend()\n",
    "plt.title(\"Loss\")\n",
    "plt.show()\n",
    "\n",
    "plt.plot(range(len(train_acc)), train_acc, label=\"train accuracy\")\n",
    "plt.plot(range(len(valid_acc)), valid_acc, label=\"valid accuracy\")\n",
    "plt.hlines(y=acc_loadback, xmin=0, xmax=len(train_loss), colors='r', linestyles='--')\n",
    "plt.legend()\n",
    "plt.title(\"Accuracy\")\n",
    "plt.show()"
   ]
  },
  {
   "cell_type": "markdown",
   "metadata": {},
   "source": [
    "### no save_best_only=False"
   ]
  },
  {
   "cell_type": "code",
   "execution_count": 8,
   "metadata": {},
   "outputs": [],
   "source": [
    "from keras.callbacks import ModelCheckpoint\n",
    "\n",
    "model_ckpt = ModelCheckpoint(filepath=\"./tmp.h5\", \n",
    "                             monitor=\"val_loss\",\n",
    "                             save_best_only=False)\n",
    "                            "
   ]
  },
  {
   "cell_type": "code",
   "execution_count": 9,
   "metadata": {},
   "outputs": [
    {
     "name": "stdout",
     "output_type": "stream",
     "text": [
      "Model: \"model_1\"\n",
      "_________________________________________________________________\n",
      "Layer (type)                 Output Shape              Param #   \n",
      "=================================================================\n",
      "input_1 (InputLayer)         (None, 3072)              0         \n",
      "_________________________________________________________________\n",
      "hidden_layer1 (Dense)        (None, 512)               1573376   \n",
      "_________________________________________________________________\n",
      "batch_normalization_1 (Batch (None, 512)               2048      \n",
      "_________________________________________________________________\n",
      "hidden_layer2 (Dense)        (None, 256)               131328    \n",
      "_________________________________________________________________\n",
      "batch_normalization_2 (Batch (None, 256)               1024      \n",
      "_________________________________________________________________\n",
      "hidden_layer3 (Dense)        (None, 128)               32896     \n",
      "_________________________________________________________________\n",
      "batch_normalization_3 (Batch (None, 128)               512       \n",
      "_________________________________________________________________\n",
      "output (Dense)               (None, 10)                1290      \n",
      "=================================================================\n",
      "Total params: 1,742,474\n",
      "Trainable params: 1,740,682\n",
      "Non-trainable params: 1,792\n",
      "_________________________________________________________________\n",
      "Train on 50000 samples, validate on 10000 samples\n",
      "Epoch 1/50\n",
      "50000/50000 [==============================] - 20s 396us/step - loss: 2.2467 - accuracy: 0.2651 - val_loss: 2.1021 - val_accuracy: 0.2343\n",
      "Epoch 2/50\n",
      "50000/50000 [==============================] - 18s 351us/step - loss: 1.7611 - accuracy: 0.3866 - val_loss: 1.9794 - val_accuracy: 0.2965\n",
      "Epoch 3/50\n",
      "50000/50000 [==============================] - 19s 371us/step - loss: 1.6312 - accuracy: 0.4297 - val_loss: 1.8171 - val_accuracy: 0.3750\n",
      "Epoch 4/50\n",
      "50000/50000 [==============================] - 19s 375us/step - loss: 1.5544 - accuracy: 0.4575 - val_loss: 1.7134 - val_accuracy: 0.4129\n",
      "Epoch 5/50\n",
      "50000/50000 [==============================] - 18s 361us/step - loss: 1.4980 - accuracy: 0.4784 - val_loss: 1.6382 - val_accuracy: 0.4291\n",
      "Epoch 6/50\n",
      "50000/50000 [==============================] - 21s 411us/step - loss: 1.4505 - accuracy: 0.4960 - val_loss: 1.5732 - val_accuracy: 0.4507\n",
      "Epoch 7/50\n",
      "50000/50000 [==============================] - 18s 355us/step - loss: 1.4119 - accuracy: 0.5096 - val_loss: 1.5465 - val_accuracy: 0.4539\n",
      "Epoch 8/50\n",
      "50000/50000 [==============================] - 18s 350us/step - loss: 1.3737 - accuracy: 0.5234 - val_loss: 1.5265 - val_accuracy: 0.4574\n",
      "Epoch 9/50\n",
      "50000/50000 [==============================] - 18s 350us/step - loss: 1.3437 - accuracy: 0.5322 - val_loss: 1.5040 - val_accuracy: 0.4672\n",
      "Epoch 10/50\n",
      "50000/50000 [==============================] - 17s 345us/step - loss: 1.3127 - accuracy: 0.5454 - val_loss: 1.4819 - val_accuracy: 0.4743\n",
      "Epoch 11/50\n",
      "50000/50000 [==============================] - 17s 344us/step - loss: 1.2848 - accuracy: 0.5563 - val_loss: 1.4808 - val_accuracy: 0.4736\n",
      "Epoch 12/50\n",
      "50000/50000 [==============================] - 17s 340us/step - loss: 1.2581 - accuracy: 0.5654 - val_loss: 1.4791 - val_accuracy: 0.4733\n",
      "Epoch 13/50\n",
      "50000/50000 [==============================] - 17s 347us/step - loss: 1.2326 - accuracy: 0.5753 - val_loss: 1.4604 - val_accuracy: 0.4815\n",
      "Epoch 14/50\n",
      "50000/50000 [==============================] - 17s 349us/step - loss: 1.2072 - accuracy: 0.5843 - val_loss: 1.4587 - val_accuracy: 0.4797\n",
      "Epoch 15/50\n",
      "50000/50000 [==============================] - 18s 365us/step - loss: 1.1830 - accuracy: 0.5922 - val_loss: 1.4550 - val_accuracy: 0.4850\n",
      "Epoch 16/50\n",
      "50000/50000 [==============================] - 20s 404us/step - loss: 1.1593 - accuracy: 0.6008 - val_loss: 1.4588 - val_accuracy: 0.4863\n",
      "Epoch 17/50\n",
      "50000/50000 [==============================] - 19s 370us/step - loss: 1.1371 - accuracy: 0.6084 - val_loss: 1.4479 - val_accuracy: 0.4908\n",
      "Epoch 18/50\n",
      "50000/50000 [==============================] - 18s 352us/step - loss: 1.1123 - accuracy: 0.6179 - val_loss: 1.4483 - val_accuracy: 0.4895\n",
      "Epoch 19/50\n",
      "50000/50000 [==============================] - 18s 361us/step - loss: 1.0909 - accuracy: 0.6271 - val_loss: 1.4406 - val_accuracy: 0.4928\n",
      "Epoch 20/50\n",
      "50000/50000 [==============================] - 20s 403us/step - loss: 1.0700 - accuracy: 0.6330 - val_loss: 1.4438 - val_accuracy: 0.4946\n",
      "Epoch 21/50\n",
      "50000/50000 [==============================] - 18s 353us/step - loss: 1.0476 - accuracy: 0.6441 - val_loss: 1.4433 - val_accuracy: 0.4938\n",
      "Epoch 22/50\n",
      "50000/50000 [==============================] - 18s 353us/step - loss: 1.0256 - accuracy: 0.6517 - val_loss: 1.4565 - val_accuracy: 0.4949\n",
      "Epoch 23/50\n",
      "50000/50000 [==============================] - 17s 345us/step - loss: 1.0057 - accuracy: 0.6579 - val_loss: 1.4440 - val_accuracy: 0.4915\n",
      "Epoch 24/50\n",
      "50000/50000 [==============================] - 17s 343us/step - loss: 0.9851 - accuracy: 0.6664 - val_loss: 1.4592 - val_accuracy: 0.4933\n",
      "Epoch 25/50\n",
      "50000/50000 [==============================] - 17s 350us/step - loss: 0.9644 - accuracy: 0.6743 - val_loss: 1.4556 - val_accuracy: 0.4959\n",
      "Epoch 26/50\n",
      "50000/50000 [==============================] - 17s 344us/step - loss: 0.9425 - accuracy: 0.6827 - val_loss: 1.4632 - val_accuracy: 0.4932\n",
      "Epoch 27/50\n",
      "50000/50000 [==============================] - 18s 356us/step - loss: 0.9237 - accuracy: 0.6893 - val_loss: 1.4562 - val_accuracy: 0.4928\n",
      "Epoch 28/50\n",
      "50000/50000 [==============================] - 17s 349us/step - loss: 0.9051 - accuracy: 0.6959 - val_loss: 1.4655 - val_accuracy: 0.4951\n",
      "Epoch 29/50\n",
      "50000/50000 [==============================] - 17s 349us/step - loss: 0.8833 - accuracy: 0.7036 - val_loss: 1.4706 - val_accuracy: 0.4914\n",
      "Epoch 30/50\n",
      "50000/50000 [==============================] - 18s 350us/step - loss: 0.8643 - accuracy: 0.7123 - val_loss: 1.4786 - val_accuracy: 0.4854\n",
      "Epoch 31/50\n",
      "50000/50000 [==============================] - 19s 374us/step - loss: 0.8434 - accuracy: 0.7210 - val_loss: 1.4843 - val_accuracy: 0.4933\n",
      "Epoch 32/50\n",
      "50000/50000 [==============================] - 19s 386us/step - loss: 0.8236 - accuracy: 0.7290 - val_loss: 1.4942 - val_accuracy: 0.4888\n",
      "Epoch 33/50\n",
      "50000/50000 [==============================] - 19s 386us/step - loss: 0.8057 - accuracy: 0.7356 - val_loss: 1.5062 - val_accuracy: 0.4924\n",
      "Epoch 34/50\n",
      "50000/50000 [==============================] - 18s 365us/step - loss: 0.7868 - accuracy: 0.7444 - val_loss: 1.5116 - val_accuracy: 0.4894\n",
      "Epoch 35/50\n",
      "50000/50000 [==============================] - 21s 428us/step - loss: 0.7662 - accuracy: 0.7511 - val_loss: 1.5093 - val_accuracy: 0.4917\n",
      "Epoch 36/50\n",
      "50000/50000 [==============================] - 17s 349us/step - loss: 0.7454 - accuracy: 0.7609 - val_loss: 1.5203 - val_accuracy: 0.4918\n",
      "Epoch 37/50\n",
      "50000/50000 [==============================] - 17s 345us/step - loss: 0.7287 - accuracy: 0.7650 - val_loss: 1.5256 - val_accuracy: 0.4885\n",
      "Epoch 38/50\n",
      "50000/50000 [==============================] - 21s 419us/step - loss: 0.7101 - accuracy: 0.7746 - val_loss: 1.5319 - val_accuracy: 0.4949\n",
      "Epoch 39/50\n",
      "50000/50000 [==============================] - 17s 341us/step - loss: 0.6902 - accuracy: 0.7836 - val_loss: 1.5435 - val_accuracy: 0.4972\n",
      "Epoch 40/50\n",
      "50000/50000 [==============================] - 17s 345us/step - loss: 0.6733 - accuracy: 0.7898 - val_loss: 1.5733 - val_accuracy: 0.4873\n",
      "Epoch 41/50\n",
      "50000/50000 [==============================] - 20s 406us/step - loss: 0.6549 - accuracy: 0.7964 - val_loss: 1.5558 - val_accuracy: 0.4923\n",
      "Epoch 42/50\n",
      "50000/50000 [==============================] - 17s 349us/step - loss: 0.6362 - accuracy: 0.8034 - val_loss: 1.5716 - val_accuracy: 0.4906\n",
      "Epoch 43/50\n",
      "50000/50000 [==============================] - 17s 344us/step - loss: 0.6200 - accuracy: 0.8109 - val_loss: 1.5877 - val_accuracy: 0.4894\n",
      "Epoch 44/50\n",
      "50000/50000 [==============================] - 22s 440us/step - loss: 0.6004 - accuracy: 0.8193 - val_loss: 1.5907 - val_accuracy: 0.4891\n",
      "Epoch 45/50\n",
      "50000/50000 [==============================] - 18s 353us/step - loss: 0.5851 - accuracy: 0.8246 - val_loss: 1.6002 - val_accuracy: 0.4973\n"
     ]
    },
    {
     "name": "stdout",
     "output_type": "stream",
     "text": [
      "Epoch 46/50\n",
      "50000/50000 [==============================] - 17s 350us/step - loss: 0.5665 - accuracy: 0.8334 - val_loss: 1.6107 - val_accuracy: 0.4927\n",
      "Epoch 47/50\n",
      "50000/50000 [==============================] - 20s 398us/step - loss: 0.5505 - accuracy: 0.8402 - val_loss: 1.6201 - val_accuracy: 0.4872\n",
      "Epoch 48/50\n",
      "50000/50000 [==============================] - 19s 382us/step - loss: 0.5330 - accuracy: 0.8463 - val_loss: 1.6411 - val_accuracy: 0.4881\n",
      "Epoch 49/50\n",
      "50000/50000 [==============================] - 18s 353us/step - loss: 0.5176 - accuracy: 0.8504 - val_loss: 1.6666 - val_accuracy: 0.4875\n",
      "Epoch 50/50\n",
      "50000/50000 [==============================] - 18s 368us/step - loss: 0.5014 - accuracy: 0.8588 - val_loss: 1.6672 - val_accuracy: 0.4897\n",
      "10000/10000 [==============================] - 3s 306us/step\n"
     ]
    }
   ],
   "source": [
    "model = build_mlp(input_shape=x_train.shape[1:])\n",
    "model.summary()\n",
    "optimizer = keras.optimizers.SGD(lr=LEARNING_RATE, nesterov=True, momentum=MOMENTUM)\n",
    "model.compile(loss=\"categorical_crossentropy\", metrics=[\"accuracy\"], optimizer=optimizer)\n",
    "\n",
    "model.fit(x_train, y_train, \n",
    "          epochs=EPOCHS, \n",
    "          batch_size=BATCH_SIZE, \n",
    "          validation_data=(x_test, y_test), \n",
    "          shuffle=True,\n",
    "          callbacks=[model_ckpt]\n",
    "         )\n",
    "\n",
    "# Collect results\n",
    "train_loss = model.history.history[\"loss\"]\n",
    "valid_loss = model.history.history[\"val_loss\"]\n",
    "train_acc = model.history.history[\"accuracy\"]\n",
    "valid_acc = model.history.history[\"val_accuracy\"]\n",
    "\n",
    "# Load back\n",
    "model = keras.models.load_model(\"./tmp.h5\")\n",
    "loss_loadback, acc_loadback = model.evaluate(x_test, y_test)"
   ]
  },
  {
   "cell_type": "code",
   "execution_count": 10,
   "metadata": {},
   "outputs": [
    {
     "data": {
      "image/png": "[encoded data removed]",
      "text/plain": [
       "<Figure size 432x288 with 1 Axes>"
      ]
     },
     "metadata": {
      "needs_background": "light"
     },
     "output_type": "display_data"
    },
    {
     "data": {
      "image/png": "[encoded data removed]",
      "text/plain": [
       "<Figure size 432x288 with 1 Axes>"
      ]
     },
     "metadata": {
      "needs_background": "light"
     },
     "output_type": "display_data"
    }
   ],
   "source": [
    "import matplotlib.pyplot as plt\n",
    "%matplotlib inline\n",
    "\n",
    "plt.plot(range(len(train_loss)), train_loss, label=\"train loss\")\n",
    "plt.plot(range(len(valid_loss)), valid_loss, label=\"valid loss\")\n",
    "plt.hlines(y=loss_loadback, xmin=0, xmax=len(train_loss), colors='r', linestyles='--')\n",
    "plt.legend()\n",
    "plt.title(\"Loss: no save_best_only=False\")\n",
    "plt.show()\n",
    "\n",
    "plt.plot(range(len(train_acc)), train_acc, label=\"train accuracy\")\n",
    "plt.plot(range(len(valid_acc)), valid_acc, label=\"valid accuracy\")\n",
    "plt.hlines(y=acc_loadback, xmin=0, xmax=len(train_loss), colors='r', linestyles='--')\n",
    "plt.legend()\n",
    "plt.title(\"Accuracy:no save_best_only=False\")\n",
    "plt.show()"
   ]
  },
  {
   "cell_type": "markdown",
   "metadata": {},
   "source": [
    "### save_weights_only=True"
   ]
  },
  {
   "cell_type": "code",
   "execution_count": 30,
   "metadata": {},
   "outputs": [],
   "source": [
    "from keras.callbacks import ModelCheckpoint\n",
    "\n",
    "model_ckpt = ModelCheckpoint(filepath=\"./tmp.h5\", \n",
    "                             monitor=\"val_loss\",\n",
    "                             save_weights_only=True)"
   ]
  },
  {
   "cell_type": "code",
   "execution_count": 31,
   "metadata": {},
   "outputs": [
    {
     "name": "stdout",
     "output_type": "stream",
     "text": [
      "Model: \"model_4\"\n",
      "_________________________________________________________________\n",
      "Layer (type)                 Output Shape              Param #   \n",
      "=================================================================\n",
      "input_4 (InputLayer)         (None, 3072)              0         \n",
      "_________________________________________________________________\n",
      "hidden_layer1 (Dense)        (None, 512)               1573376   \n",
      "_________________________________________________________________\n",
      "batch_normalization_10 (Batc (None, 512)               2048      \n",
      "_________________________________________________________________\n",
      "hidden_layer2 (Dense)        (None, 256)               131328    \n",
      "_________________________________________________________________\n",
      "batch_normalization_11 (Batc (None, 256)               1024      \n",
      "_________________________________________________________________\n",
      "hidden_layer3 (Dense)        (None, 128)               32896     \n",
      "_________________________________________________________________\n",
      "batch_normalization_12 (Batc (None, 128)               512       \n",
      "_________________________________________________________________\n",
      "output (Dense)               (None, 10)                1290      \n",
      "=================================================================\n",
      "Total params: 1,742,474\n",
      "Trainable params: 1,740,682\n",
      "Non-trainable params: 1,792\n",
      "_________________________________________________________________\n",
      "Train on 50000 samples, validate on 10000 samples\n",
      "Epoch 1/50\n",
      "50000/50000 [==============================] - 18s 362us/step - loss: 2.2412 - accuracy: 0.2699 - val_loss: 2.1479 - val_accuracy: 0.2021\n",
      "Epoch 2/50\n",
      "50000/50000 [==============================] - 22s 444us/step - loss: 1.7410 - accuracy: 0.3965 - val_loss: 1.9874 - val_accuracy: 0.2793\n",
      "Epoch 3/50\n",
      "50000/50000 [==============================] - 16s 323us/step - loss: 1.6171 - accuracy: 0.4355 - val_loss: 1.8254 - val_accuracy: 0.3711\n",
      "Epoch 4/50\n",
      "50000/50000 [==============================] - 16s 325us/step - loss: 1.5431 - accuracy: 0.4618 - val_loss: 1.7197 - val_accuracy: 0.4126\n",
      "Epoch 5/50\n",
      "50000/50000 [==============================] - 16s 316us/step - loss: 1.4876 - accuracy: 0.4813 - val_loss: 1.6388 - val_accuracy: 0.4279\n",
      "Epoch 6/50\n",
      "50000/50000 [==============================] - 16s 320us/step - loss: 1.4432 - accuracy: 0.4967 - val_loss: 1.5790 - val_accuracy: 0.4516\n",
      "Epoch 7/50\n",
      "50000/50000 [==============================] - 21s 413us/step - loss: 1.4040 - accuracy: 0.5116 - val_loss: 1.5594 - val_accuracy: 0.4581\n",
      "Epoch 8/50\n",
      "50000/50000 [==============================] - 17s 340us/step - loss: 1.3714 - accuracy: 0.5217 - val_loss: 1.5288 - val_accuracy: 0.4583\n",
      "Epoch 9/50\n",
      "50000/50000 [==============================] - 17s 348us/step - loss: 1.3373 - accuracy: 0.5358 - val_loss: 1.5106 - val_accuracy: 0.4661\n",
      "Epoch 10/50\n",
      "50000/50000 [==============================] - 16s 326us/step - loss: 1.3083 - accuracy: 0.5451 - val_loss: 1.5063 - val_accuracy: 0.4746\n",
      "Epoch 11/50\n",
      "50000/50000 [==============================] - 19s 381us/step - loss: 1.2800 - accuracy: 0.5580 - val_loss: 1.4839 - val_accuracy: 0.4775\n",
      "Epoch 12/50\n",
      "50000/50000 [==============================] - 22s 444us/step - loss: 1.2552 - accuracy: 0.5657 - val_loss: 1.4816 - val_accuracy: 0.4754\n",
      "Epoch 13/50\n",
      "50000/50000 [==============================] - 19s 377us/step - loss: 1.2267 - accuracy: 0.5768 - val_loss: 1.4825 - val_accuracy: 0.4769\n",
      "Epoch 14/50\n",
      "50000/50000 [==============================] - 27s 541us/step - loss: 1.2035 - accuracy: 0.5843 - val_loss: 1.4707 - val_accuracy: 0.4827\n",
      "Epoch 15/50\n",
      "50000/50000 [==============================] - 19s 375us/step - loss: 1.1794 - accuracy: 0.5933 - val_loss: 1.4691 - val_accuracy: 0.4803\n",
      "Epoch 16/50\n",
      "50000/50000 [==============================] - 21s 425us/step - loss: 1.1563 - accuracy: 0.6024 - val_loss: 1.4627 - val_accuracy: 0.4877\n",
      "Epoch 17/50\n",
      "50000/50000 [==============================] - 16s 327us/step - loss: 1.1330 - accuracy: 0.6122 - val_loss: 1.4705 - val_accuracy: 0.4861\n",
      "Epoch 18/50\n",
      "50000/50000 [==============================] - 23s 455us/step - loss: 1.1093 - accuracy: 0.6196 - val_loss: 1.4583 - val_accuracy: 0.4918\n",
      "Epoch 19/50\n",
      "50000/50000 [==============================] - 17s 347us/step - loss: 1.0866 - accuracy: 0.6292 - val_loss: 1.4711 - val_accuracy: 0.4866\n",
      "Epoch 20/50\n",
      "50000/50000 [==============================] - 22s 446us/step - loss: 1.0661 - accuracy: 0.6367 - val_loss: 1.4636 - val_accuracy: 0.4886\n",
      "Epoch 21/50\n",
      "50000/50000 [==============================] - 16s 313us/step - loss: 1.0449 - accuracy: 0.6455 - val_loss: 1.4611 - val_accuracy: 0.4984\n",
      "Epoch 22/50\n",
      "50000/50000 [==============================] - 16s 322us/step - loss: 1.0231 - accuracy: 0.6533 - val_loss: 1.4692 - val_accuracy: 0.4938\n",
      "Epoch 23/50\n",
      "50000/50000 [==============================] - 19s 378us/step - loss: 1.0024 - accuracy: 0.6610 - val_loss: 1.4632 - val_accuracy: 0.4931\n",
      "Epoch 24/50\n",
      "50000/50000 [==============================] - 19s 376us/step - loss: 0.9809 - accuracy: 0.6677 - val_loss: 1.4573 - val_accuracy: 0.4953\n",
      "Epoch 25/50\n",
      "50000/50000 [==============================] - 16s 316us/step - loss: 0.9615 - accuracy: 0.6770 - val_loss: 1.4676 - val_accuracy: 0.4922\n",
      "Epoch 26/50\n",
      "50000/50000 [==============================] - 19s 388us/step - loss: 0.9417 - accuracy: 0.6842 - val_loss: 1.4689 - val_accuracy: 0.5002\n",
      "Epoch 27/50\n",
      "50000/50000 [==============================] - 16s 315us/step - loss: 0.9215 - accuracy: 0.6942 - val_loss: 1.4860 - val_accuracy: 0.4937\n",
      "Epoch 28/50\n",
      "50000/50000 [==============================] - 18s 365us/step - loss: 0.9024 - accuracy: 0.6993 - val_loss: 1.4805 - val_accuracy: 0.4916\n",
      "Epoch 29/50\n",
      "50000/50000 [==============================] - 18s 364us/step - loss: 0.8820 - accuracy: 0.7068 - val_loss: 1.4733 - val_accuracy: 0.4989\n",
      "Epoch 30/50\n",
      "50000/50000 [==============================] - 21s 413us/step - loss: 0.8612 - accuracy: 0.7149 - val_loss: 1.5039 - val_accuracy: 0.4904\n",
      "Epoch 31/50\n",
      "50000/50000 [==============================] - 21s 427us/step - loss: 0.8442 - accuracy: 0.7235 - val_loss: 1.4925 - val_accuracy: 0.5032\n",
      "Epoch 32/50\n",
      "50000/50000 [==============================] - 31s 611us/step - loss: 0.8241 - accuracy: 0.7286 - val_loss: 1.5128 - val_accuracy: 0.4966\n",
      "Epoch 33/50\n",
      "50000/50000 [==============================] - 20s 400us/step - loss: 0.8044 - accuracy: 0.7396 - val_loss: 1.5072 - val_accuracy: 0.4959\n",
      "Epoch 34/50\n",
      "50000/50000 [==============================] - 25s 497us/step - loss: 0.7858 - accuracy: 0.7457 - val_loss: 1.5014 - val_accuracy: 0.4977\n",
      "Epoch 35/50\n",
      "50000/50000 [==============================] - 23s 467us/step - loss: 0.7663 - accuracy: 0.7527 - val_loss: 1.5334 - val_accuracy: 0.4982\n",
      "Epoch 36/50\n",
      "50000/50000 [==============================] - 23s 460us/step - loss: 0.7470 - accuracy: 0.7604 - val_loss: 1.5171 - val_accuracy: 0.4976\n",
      "Epoch 37/50\n",
      "50000/50000 [==============================] - 24s 481us/step - loss: 0.7282 - accuracy: 0.7698 - val_loss: 1.5467 - val_accuracy: 0.4949\n",
      "Epoch 38/50\n",
      "50000/50000 [==============================] - 27s 537us/step - loss: 0.7107 - accuracy: 0.7749 - val_loss: 1.5471 - val_accuracy: 0.4964\n",
      "Epoch 39/50\n",
      "50000/50000 [==============================] - 23s 464us/step - loss: 0.6922 - accuracy: 0.7815 - val_loss: 1.5601 - val_accuracy: 0.4918\n",
      "Epoch 40/50\n",
      "50000/50000 [==============================] - 22s 441us/step - loss: 0.6754 - accuracy: 0.7891 - val_loss: 1.5723 - val_accuracy: 0.4958\n",
      "Epoch 41/50\n",
      "50000/50000 [==============================] - 27s 540us/step - loss: 0.6554 - accuracy: 0.7980 - val_loss: 1.5806 - val_accuracy: 0.4933\n",
      "Epoch 42/50\n",
      "50000/50000 [==============================] - 20s 392us/step - loss: 0.6374 - accuracy: 0.8044 - val_loss: 1.5825 - val_accuracy: 0.4959\n",
      "Epoch 43/50\n",
      "50000/50000 [==============================] - 29s 584us/step - loss: 0.6208 - accuracy: 0.8105 - val_loss: 1.5861 - val_accuracy: 0.4979\n",
      "Epoch 44/50\n",
      "50000/50000 [==============================] - 22s 445us/step - loss: 0.6035 - accuracy: 0.8179 - val_loss: 1.5902 - val_accuracy: 0.5017\n",
      "Epoch 45/50\n",
      "50000/50000 [==============================] - 26s 522us/step - loss: 0.5868 - accuracy: 0.8233 - val_loss: 1.6084 - val_accuracy: 0.4904\n"
     ]
    },
    {
     "name": "stdout",
     "output_type": "stream",
     "text": [
      "Epoch 46/50\n",
      "50000/50000 [==============================] - 15s 309us/step - loss: 0.5711 - accuracy: 0.8315 - val_loss: 1.6369 - val_accuracy: 0.4947\n",
      "Epoch 47/50\n",
      "50000/50000 [==============================] - 20s 402us/step - loss: 0.5521 - accuracy: 0.8382 - val_loss: 1.6483 - val_accuracy: 0.4877\n",
      "Epoch 48/50\n",
      "50000/50000 [==============================] - 17s 345us/step - loss: 0.5352 - accuracy: 0.8453 - val_loss: 1.6434 - val_accuracy: 0.4949\n",
      "Epoch 49/50\n",
      "50000/50000 [==============================] - 16s 317us/step - loss: 0.5182 - accuracy: 0.8527 - val_loss: 1.6825 - val_accuracy: 0.4902\n",
      "Epoch 50/50\n",
      "50000/50000 [==============================] - 20s 399us/step - loss: 0.5014 - accuracy: 0.8592 - val_loss: 1.6773 - val_accuracy: 0.4958\n"
     ]
    }
   ],
   "source": [
    "model = build_mlp(input_shape=x_train.shape[1:])\n",
    "model.summary()\n",
    "optimizer = keras.optimizers.SGD(lr=LEARNING_RATE, nesterov=True, momentum=MOMENTUM)\n",
    "model.compile(loss=\"categorical_crossentropy\", metrics=[\"accuracy\"], optimizer=optimizer)\n",
    "\n",
    "model.fit(x_train, y_train, \n",
    "          epochs=EPOCHS, \n",
    "          batch_size=BATCH_SIZE, \n",
    "          validation_data=(x_test, y_test), \n",
    "          shuffle=True,\n",
    "          callbacks=[model_ckpt]\n",
    "         )\n",
    "\n",
    "# Collect results\n",
    "train_loss = model.history.history[\"loss\"]\n",
    "valid_loss = model.history.history[\"val_loss\"]\n",
    "train_acc = model.history.history[\"accuracy\"]\n",
    "valid_acc = model.history.history[\"val_accuracy\"]\n",
    "\n",
    "# Load back\n",
    "#model = keras.models.load_model(\"./tmp.h5\")\n",
    "#loss_loadback, acc_loadback = model.evaluate(x_test, y_test)"
   ]
  },
  {
   "cell_type": "code",
   "execution_count": 32,
   "metadata": {},
   "outputs": [
    {
     "data": {
      "image/png": "[encoded data removed]",
      "text/plain": [
       "<Figure size 432x288 with 1 Axes>"
      ]
     },
     "metadata": {
      "needs_background": "light"
     },
     "output_type": "display_data"
    },
    {
     "data": {
      "image/png": "[encoded data removed]",
      "text/plain": [
       "<Figure size 432x288 with 1 Axes>"
      ]
     },
     "metadata": {
      "needs_background": "light"
     },
     "output_type": "display_data"
    }
   ],
   "source": [
    "import matplotlib.pyplot as plt\n",
    "%matplotlib inline\n",
    "\n",
    "plt.plot(range(len(train_loss)), train_loss, label=\"train loss\")\n",
    "plt.plot(range(len(valid_loss)), valid_loss, label=\"valid loss\")\n",
    "plt.hlines(y=loss_loadback, xmin=0, xmax=len(train_loss), colors='r', linestyles='--')\n",
    "plt.legend()\n",
    "plt.title(\"Loss: save_weights_only=True\")\n",
    "plt.show()\n",
    "\n",
    "plt.plot(range(len(train_acc)), train_acc, label=\"train accuracy\")\n",
    "plt.plot(range(len(valid_acc)), valid_acc, label=\"valid accuracy\")\n",
    "plt.hlines(y=acc_loadback, xmin=0, xmax=len(train_loss), colors='r', linestyles='--')\n",
    "plt.legend()\n",
    "plt.title(\"Accuracy: save_weights_only=True\")\n",
    "plt.show()"
   ]
  },
  {
   "cell_type": "code",
   "execution_count": null,
   "metadata": {},
   "outputs": [],
   "source": []
  },
  {
   "cell_type": "code",
   "execution_count": null,
   "metadata": {},
   "outputs": [],
   "source": []
  }
 ],
 "metadata": {
  "kernelspec": {
   "display_name": "Python 3",
   "language": "python",
   "name": "python3"
  },
  "language_info": {
   "codemirror_mode": {
    "name": "ipython",
    "version": 3
   },
   "file_extension": ".py",
   "mimetype": "text/x-python",
   "name": "python",
   "nbconvert_exporter": "python",
   "pygments_lexer": "ipython3",
   "version": "3.7.0"
  }
 },
 "nbformat": 4,
 "nbformat_minor": 2
}
