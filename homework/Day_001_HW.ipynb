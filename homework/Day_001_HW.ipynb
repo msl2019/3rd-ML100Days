{
 "cells": [
  {
   "cell_type": "code",
   "execution_count": null,
   "metadata": {},
   "outputs": [],
   "source": [
    "# 載入基礎套件與代稱\n",
    "import numpy as np\n",
    "import matplotlib.pyplot as plt"
   ]
  },
  {
   "cell_type": "code",
   "execution_count": null,
   "metadata": {},
   "outputs": [],
   "source": [
    "def mean_absolute_error(y, yp):\n",
    "    \"\"\"\n",
    "    計算 MAE\n",
    "    Args:\n",
    "        - y: 實際值\n",
    "        - yp: 預測值\n",
    "    Return:\n",
    "        - mae: MAE\n",
    "    \"\"\"\n",
    "    mae = MAE = sum(abs(y - yp)) / len(y)\n",
    "    return mae\n",
    "\n",
    "# 定義 mean_squared_error 這個函數, 計算並傳回 MSE\n",
    "def mean_squared_error(y, yp):\n",
    "    \"\"\"\n",
    "    請完成這個 Function 後往下執行\n",
    "    \"\"\"\n",
    "    mse = MSE = sum((y - yp)**2) / len(y)\n",
    "    return mse"
   ]
  },
  {
   "cell_type": "code",
   "execution_count": 9,
   "metadata": {},
   "outputs": [
    {
     "data": {
      "image/png": "[encoded data removed]",
      "text/plain": [
       "<Figure size 432x288 with 1 Axes>"
      ]
     },
     "metadata": {
      "needs_background": "light"
     },
     "output_type": "display_data"
    }
   ],
   "source": [
    "# 與範例相同, 不另外解說\n",
    "\n",
    "w = 3\n",
    "b = 0.5\n",
    "x_lin = np.linspace(0, 100, 101)\n",
    "y = (x_lin + np.random.randn(101) * 5) * w + b\n",
    "\n",
    "plt.plot(x_lin, y, 'b.', label = 'data points')\n",
    "plt.title(\"Assume we have data points\")\n",
    "plt.legend(loc = 2)\n",
    "plt.show()"
   ]
  },
  {
   "cell_type": "code",
   "execution_count": 5,
   "metadata": {},
   "outputs": [
    {
     "data": {
      "image/png": "[encoded data removed]",
      "text/plain": [
       "<Figure size 432x288 with 1 Axes>"
      ]
     },
     "metadata": {
      "needs_background": "light"
     },
     "output_type": "display_data"
    }
   ],
   "source": [
    "\n",
    "# 與範例相同, 不另外解說\n",
    "y_hat = x_lin * w + b\n",
    "plt.plot(x_lin, y, 'b.', label = 'data')\n",
    "plt.plot(x_lin, y_hat, 'r-', label = 'prediction')\n",
    "plt.title(\"Assume we have data points (And the prediction)\")\n",
    "plt.legend(loc = 2)\n",
    "plt.show()"
   ]
  },
  {
   "cell_type": "code",
   "execution_count": 7,
   "metadata": {},
   "outputs": [
    {
     "name": "stdout",
     "output_type": "stream",
     "text": [
      "The Mean absolute error is 11.338\n"
     ]
    }
   ],
   "source": [
    "def mean_absolute_error(y, yp):\n",
    "    mae=sum(abs(y - yp)) / len(y)\n",
    "    return mae\n",
    "MAE = mean_absolute_error(y, y_hat)\n",
    "print(\"The Mean absolute error is %.3f\" % (MAE))"
   ]
  },
  {
   "cell_type": "code",
   "execution_count": 8,
   "metadata": {},
   "outputs": [
    {
     "name": "stdout",
     "output_type": "stream",
     "text": [
      "The Mean square error is 208.604\n"
     ]
    }
   ],
   "source": [
    "def mean_square_error(y, yp):\n",
    "    mse=sum((y-yp)**2)/len(y)\n",
    "    return mse\n",
    "MSE= mean_square_error(y, y_hat)\n",
    "print(\"The Mean square error is %.3f\" % (MSE))"
   ]
  },
  {
   "cell_type": "code",
   "execution_count": null,
   "metadata": {},
   "outputs": [],
   "source": [
    "作業2：\n",
    "\n",
    "請上 Kaggle, 在 Competitions 或 Dataset 中找一組競賽或資料並寫下：\n",
    "\n",
    "1. 你選的這組資料為何重要\n",
    "\n",
    "2. 資料從何而來 (tips: 譬如提供者是誰、以什麼方式蒐集)\n",
    "\n",
    "3. 蒐集而來的資料型態為何\n",
    "\n",
    "4. 這組資料想解決的問題如何評估\n",
    "\n",
    "\n",
    "[作業2]\n",
    "請上 Kaggle, 在 Competitions 或 Dataset 中找一組競賽或資料並寫下：\n",
    "1.你選的這組資料為何重要\n",
    "因為心率訓練是跑步其中一項重要訓練，話些資料能找到不同心率和跑步效能的關係，而 數據中亦有溫度資料，這是對運動表演重要參數。\n",
    "\n",
    "2.資料從何而來 (tips: 譬如提供者是誰、以什麼方式蒐集)\n",
    "數據來源：\n",
    "https://www.kaggle.com/mcandocia/running-heart-rate-recovery\n",
    "\n",
    "下載：\n",
    "https://www.kaggle.com/mcandocia/running-heart-rate-recovery/downloads/running-heart-rate-recovery.zip/8\n",
    "\n",
    "\n",
    "3.蒐集而來的資料型態為何\n",
    "有 4 個檔案 CSV ，有GPS信息，心率，溫度數據和運動參數\n",
    "\n",
    "4.這組資料想解決的問題如何評估\n",
    "心率和配速關係是掌握跑步訓練的兩大測量數據，而跑手通過心率錶來測量心率、配速、時候及距離，從而估計跑手訓練況態，，而溫度對運動心率有很大影響，利用(Regression) 預測跑手比賽時的成績。\n"
   ]
  },
  {
   "cell_type": "code",
   "execution_count": null,
   "metadata": {},
   "outputs": [],
   "source": [
    "作業3：\n",
    "\n",
    "想像你經營一個自由載客車隊，你希望能透過數據分析以提升業績，請你思考並描述你如何規劃整體的分析/解決方案：\n",
    "\n",
    "1. 核心問題為何 (tips：如何定義 「提升業績 & 你的假設」)\n",
    "\n",
    "2. 資料從何而來 (tips：哪些資料可能會對你想問的問題產生影響 & 資料如何蒐集)\n",
    "\n",
    "3. 蒐集而來的資料型態為何\n",
    "\n",
    "4. 你要回答的問題，其如何評估 (tips：你的假設如何驗證)\n",
    "\n",
    "1.核心問題為何 (tips：如何定義 「提升業績 & 你的假設」)\n",
    "我們主要想從數據找到增加收益, 減低開資，操作時間控制。\n",
    "我們將從客戶、營銷、運營、交通、司機的數據考慮。\n",
    "\n",
    "對於客戶的觀點：\n",
    "我們將考慮客戶背景和訂單狀態來分析其分類。\n",
    "\n",
    "對於營銷計劃的觀點：\n",
    "從營銷數據中，我們需要分析客戶不同的促銷計劃訂單和收入。\n",
    "\n",
    "從交通狀況和運營：\n",
    "如何縮短汽車行駛時間和操作效率。\n",
    "如使用GPS和移動網絡定位來因素交通情況而即時收修正行車路線，亦是減少汽車燃料的費用。\n",
    "\n",
    "駕駛員時間表和健康信息：\n",
    "它可以幫助我們分析安全條件，我們關注我們的汽車司機\n",
    "\n",
    "2.資料從何而來 (tips：哪些資料可能會對你想問的問題產生影響 & 資料如何蒐集)\n",
    "客戶信息和訂單狀態：\n",
    "我們可以從我們的客戶數據庫和訂單數據庫中收集\n",
    "\n",
    "營銷計劃分析：\n",
    "我們使用在線營銷數據並找到不同的營銷計劃來投資回圾率 (ROI)。\n",
    "\n",
    "交通狀況和運營數據：\n",
    "我們使用車隊GPS數據庫獲取移動網絡運營數據，以及我們的每天車隊時間表。\n",
    "\n",
    "\n",
    "3.蒐集而來的資料型態為何\n",
    " 結構化資料：客戶信息和訂單: 客戶姓名、結婚狀態、教育程度、性別、年齡、收入、訂單歷史記錄，使用日期和時間。\n",
    "營銷計劃數量：\n",
    "可以從分析工具，例如Google Analytics和我們的訂單數據庫\n",
    "\n",
    "駕駛員時間表和健康數據：\n",
    "駕駛時間表數據庫和年度健康檢查醫生指數\n",
    "\n",
    "交通狀況和運營數據：\n",
    "日期、時間、行車經緯度、時間、人數等。\n",
    "\n",
    "\n",
    "4.你要回答的問題，其如何評估 (tips：你的假設如何驗證)\n",
    "我們將分析每個類別數據集。\n",
    "我們結合數據來分析他們的分數。\n",
    "從每個分類客戶的客戶信息和設置促銷計劃。 我們將使用A / B測試來測試每個利潤表現以調整營銷計劃。\n",
    "訓練過去的交通數據，獲得一些交通狀況，找到車隊節省燃料和時間的最佳路線。 也許一些使用時間序列方法。\n"
   ]
  }
 ],
 "metadata": {
  "kernelspec": {
   "display_name": "Python 3",
   "language": "python",
   "name": "python3"
  },
  "language_info": {
   "codemirror_mode": {
    "name": "ipython",
    "version": 3
   },
   "file_extension": ".py",
   "mimetype": "text/x-python",
   "name": "python",
   "nbconvert_exporter": "python",
   "pygments_lexer": "ipython3",
   "version": "3.7.0"
  }
 },
 "nbformat": 4,
 "nbformat_minor": 2
}
