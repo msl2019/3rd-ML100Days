{
 "cells": [
  {
   "cell_type": "markdown",
   "metadata": {},
   "source": [
    "## [作業重點]\n",
    "使用 Sklearn 中的 Lasso, Ridge 模型，來訓練各種資料集，務必了解送進去模型訓練的**資料型態**為何，也請了解模型中各項參數的意義。\n",
    "\n",
    "機器學習的模型非常多種，但要訓練的資料多半有固定的格式，確保你了解訓練資料的格式為何，這樣在應用新模型時，就能夠最快的上手開始訓練！"
   ]
  },
  {
   "cell_type": "markdown",
   "metadata": {},
   "source": [
    "## 練習時間\n",
    "試著使用 sklearn datasets 的其他資料集 (boston, ...)，來訓練自己的線性迴歸模型，並加上適當的正則化來觀察訓練情形。"
   ]
  },
  {
   "cell_type": "code",
   "execution_count": 54,
   "metadata": {},
   "outputs": [],
   "source": [
    "import numpy as np\n",
    "import matplotlib.pyplot as plt\n",
    "from sklearn import datasets, linear_model\n",
    "from sklearn.model_selection import train_test_split\n",
    "from sklearn.metrics import mean_squared_error, r2_score"
   ]
  },
  {
   "cell_type": "markdown",
   "metadata": {},
   "source": [
    "#### WINE"
   ]
  },
  {
   "cell_type": "code",
   "execution_count": 55,
   "metadata": {},
   "outputs": [],
   "source": [
    "wine = datasets.load_wine()\n",
    "\n",
    "# 切分訓練集/測試集\n",
    "x_train, x_test, y_train, y_test = train_test_split(wine.data, wine.target, test_size=0.2, random_state=4)\n",
    "\n",
    "# 建立一個線性回歸模型\n",
    "regr = linear_model.LinearRegression()\n",
    "\n",
    "# 將訓練資料丟進去模型訓練\n",
    "regr.fit(x_train, y_train)\n",
    "\n",
    "# 將測試資料丟進模型得到預測結果\n",
    "y_pred = regr.predict(x_test)"
   ]
  },
  {
   "cell_type": "code",
   "execution_count": 56,
   "metadata": {},
   "outputs": [
    {
     "name": "stdout",
     "output_type": "stream",
     "text": [
      "[-1.09099883e-01  1.67405249e-02 -2.18753671e-01  4.66803998e-02\n",
      "  3.20692287e-04  1.24491691e-01 -3.26192950e-01 -1.91327414e-01\n",
      "  3.72016066e-02  7.57429505e-02 -1.55979636e-01 -2.85946973e-01\n",
      " -7.51809245e-04]\n"
     ]
    }
   ],
   "source": [
    "print(regr.coef_)"
   ]
  },
  {
   "cell_type": "code",
   "execution_count": 57,
   "metadata": {},
   "outputs": [
    {
     "name": "stdout",
     "output_type": "stream",
     "text": [
      "Mean squared error: 0.07\n"
     ]
    }
   ],
   "source": [
    "# 預測值與實際值的差距，使用 MSE\n",
    "print(\"Mean squared error: %.2f\"\n",
    "      % mean_squared_error(y_test, y_pred))"
   ]
  },
  {
   "cell_type": "markdown",
   "metadata": {},
   "source": [
    "### LASSO for wine"
   ]
  },
  {
   "cell_type": "code",
   "execution_count": 22,
   "metadata": {},
   "outputs": [],
   "source": [
    "# 讀取 Wine 資料集\n",
    "wine = datasets.load_wine()\n",
    "x_train, x_test, y_train, y_test = train_test_split(wine.data, wine.target, test_size=0.2, random_state=4)"
   ]
  },
  {
   "cell_type": "code",
   "execution_count": 45,
   "metadata": {},
   "outputs": [
    {
     "name": "stdout",
     "output_type": "stream",
     "text": [
      "[-0.00000000e+00  0.00000000e+00 -0.00000000e+00  3.11003765e-02\n",
      "  1.66568969e-04 -0.00000000e+00 -2.76524348e-01  0.00000000e+00\n",
      " -0.00000000e+00  9.33441102e-02 -0.00000000e+00 -1.99489077e-02\n",
      " -1.23750027e-03]\n",
      "Mean squared error: 0.10, Alpha is: 0.1\n",
      "---------------------------------------\n",
      "[-0.          0.         -0.          0.02547336  0.         -0.\n",
      " -0.15617061  0.         -0.          0.09481945 -0.         -0.\n",
      " -0.00145954]\n",
      "Mean squared error: 0.16, Alpha is: 0.2\n",
      "---------------------------------------\n",
      "[ 0.          0.          0.          0.00301828  0.         -0.\n",
      " -0.          0.         -0.          0.06074464 -0.         -0.\n",
      " -0.00172235]\n",
      "Mean squared error: 0.32, Alpha is: 0.5\n",
      "---------------------------------------\n",
      "[ 0.          0.          0.          0.          0.         -0.\n",
      " -0.          0.         -0.          0.02072899 -0.         -0.\n",
      " -0.00164611]\n",
      "Mean squared error: 0.39, Alpha is: 0.7\n",
      "---------------------------------------\n",
      "[ 0.          0.          0.          0.          0.         -0.\n",
      " -0.          0.         -0.          0.         -0.         -0.\n",
      " -0.00159714]\n",
      "Mean squared error: 0.42, Alpha is: 1\n",
      "---------------------------------------\n"
     ]
    }
   ],
   "source": [
    "wine_alpha = [0.1,0.2,0.5,0.7,1]\n",
    "for x in wine_alpha:\n",
    "    lasso = linear_model.Lasso(alpha=x)\n",
    "    lasso.fit(x_train, y_train)\n",
    "    y_pred = lasso.predict(x_test)\n",
    "    print (lasso.coef_)\n",
    "    print (\"Mean squared error: %.2f, Alpha is:\" % mean_squared_error(y_test, y_pred),x)\n",
    "    print (\"---------------------------------------\")\n",
    "\n"
   ]
  },
  {
   "cell_type": "markdown",
   "metadata": {},
   "source": [
    "### Ridge for wine"
   ]
  },
  {
   "cell_type": "code",
   "execution_count": 61,
   "metadata": {},
   "outputs": [],
   "source": [
    "# 讀取 wine 資料集\n",
    "wine = datasets.load_wine()\n",
    "x_train, x_test, y_train, y_test = train_test_split(wine.data, wine.target, test_size=0.2, random_state=4)"
   ]
  },
  {
   "cell_type": "code",
   "execution_count": 62,
   "metadata": {},
   "outputs": [
    {
     "name": "stdout",
     "output_type": "stream",
     "text": [
      "[-0.10868129  0.0167836  -0.21758328  0.04652221  0.00034174  0.12146469\n",
      " -0.32432992 -0.17652621  0.03688698  0.07593367 -0.15402058 -0.28450558\n",
      " -0.00075365]\n",
      "Mean squared error: 0.07, Alpha is: 0.1\n",
      "---------------------------------------\n",
      "[-0.10830293  0.016849   -0.21618698  0.04636497  0.00035849  0.11858429\n",
      " -0.32263589 -0.16387406  0.03660804  0.07613104 -0.15191262 -0.28316191\n",
      " -0.00075551]\n",
      "Mean squared error: 0.07, Alpha is: 0.2\n",
      "---------------------------------------\n",
      "[-0.1073333   0.01712214 -0.21119203  0.04590509  0.00039135  0.11063007\n",
      " -0.31826171 -0.13486439  0.03590049  0.07673492 -0.14525493 -0.27955302\n",
      " -0.00076108]\n",
      "Mean squared error: 0.07, Alpha is: 0.5\n",
      "---------------------------------------\n",
      "[-0.10677843  0.01733602 -0.20751868  0.0456115   0.00040391  0.10577615\n",
      " -0.31574879 -0.12055398  0.03548664  0.07713239 -0.14083656 -0.27739727\n",
      " -0.00076471]\n",
      "Mean squared error: 0.07, Alpha is: 0.7\n",
      "---------------------------------------\n",
      "[-0.1060308   0.01767173 -0.20185208  0.04519307  0.00041456  0.09901609\n",
      " -0.31237143 -0.1038379   0.03489971  0.07770768 -0.13450626 -0.27442063\n",
      " -0.00077001]\n",
      "Mean squared error: 0.07, Alpha is: 1\n",
      "---------------------------------------\n"
     ]
    }
   ],
   "source": [
    "wine_alpha2 = [0.1,0.2,0.5,0.7,1]\n",
    "for x in wine_alpha2:\n",
    "    ridge = linear_model.Ridge(alpha=x)\n",
    "    ridge.fit(x_train, y_train)\n",
    "    y_pred = regr.predict(x_test)\n",
    "    print(ridge.coef_)\n",
    "    print(\"Mean squared error: %.2f, Alpha is:\"  % mean_squared_error(y_test, y_pred),x)\n",
    "    print (\"---------------------------------------\")"
   ]
  },
  {
   "cell_type": "markdown",
   "metadata": {},
   "source": [
    "Ridge和原本的線性回歸沒有分別，但LASSO就有改善。"
   ]
  },
  {
   "cell_type": "markdown",
   "metadata": {},
   "source": [
    "### Boston"
   ]
  },
  {
   "cell_type": "code",
   "execution_count": 70,
   "metadata": {},
   "outputs": [],
   "source": [
    "boston = datasets.load_boston()\n",
    "\n",
    "# 切分訓練集/測試集\n",
    "x_train, x_test, y_train, y_test = train_test_split(boston.data, boston.target, test_size=0.2, random_state=4)\n",
    "\n",
    "# 建立一個線性回歸模型\n",
    "regr = linear_model.LinearRegression()\n",
    "\n",
    "# 將訓練資料丟進去模型訓練\n",
    "regr.fit(x_train, y_train)\n",
    "\n",
    "# 將測試資料丟進模型得到預測結果\n",
    "y_pred = regr.predict(x_test)"
   ]
  },
  {
   "cell_type": "code",
   "execution_count": 71,
   "metadata": {},
   "outputs": [
    {
     "name": "stdout",
     "output_type": "stream",
     "text": [
      "[-1.14743504e-01  4.70875035e-02  8.70282354e-03  3.23818824e+00\n",
      " -1.67240567e+01  3.87662996e+00 -1.08218769e-02 -1.54144627e+00\n",
      "  2.92604151e-01 -1.33989537e-02 -9.07306805e-01  8.91271054e-03\n",
      " -4.58747039e-01]\n"
     ]
    }
   ],
   "source": [
    "print(regr.coef_)"
   ]
  },
  {
   "cell_type": "code",
   "execution_count": 72,
   "metadata": {},
   "outputs": [
    {
     "name": "stdout",
     "output_type": "stream",
     "text": [
      "Mean squared error: 25.41\n"
     ]
    }
   ],
   "source": [
    "# 預測值與實際值的差距，使用 MSE\n",
    "print(\"Mean squared error: %.2f\"\n",
    "      % mean_squared_error(y_test, y_pred))"
   ]
  },
  {
   "cell_type": "markdown",
   "metadata": {},
   "source": [
    "### LASSO for boston"
   ]
  },
  {
   "cell_type": "code",
   "execution_count": 73,
   "metadata": {},
   "outputs": [],
   "source": [
    "# 讀取 boston 資料集\n",
    "boston = datasets.load_boston()\n",
    "x_train, x_test, y_train, y_test = train_test_split(boston.data, boston.target, test_size=0.2, random_state=4)"
   ]
  },
  {
   "cell_type": "code",
   "execution_count": 74,
   "metadata": {},
   "outputs": [
    {
     "name": "stdout",
     "output_type": "stream",
     "text": [
      "[-0.10460997  0.04881541 -0.04507749  1.15331258 -0.          3.81707075\n",
      " -0.02085665 -1.23526694  0.25920388 -0.01516558 -0.74728244  0.00973548\n",
      " -0.4998582 ]\n",
      "Mean squared error: 26.44, Alpha is: 0.1\n",
      "---------------------------------------\n",
      "[-0.10208028  0.04886199 -0.028844    0.         -0.          3.55905306\n",
      " -0.01572114 -1.17314219  0.26573181 -0.01573771 -0.756338    0.00967492\n",
      " -0.52570364]\n",
      "Mean squared error: 26.59, Alpha is: 0.2\n",
      "---------------------------------------\n",
      "[-0.08764892  0.04826558 -0.01084097  0.         -0.          2.6557073\n",
      " -0.00304648 -0.98409614  0.2561194  -0.01593011 -0.73302892  0.00892585\n",
      " -0.59291607]\n",
      "Mean squared error: 26.94, Alpha is: 0.5\n",
      "---------------------------------------\n",
      "[-7.84998349e-02  4.72343423e-02 -0.00000000e+00  0.00000000e+00\n",
      " -0.00000000e+00  2.08110059e+00  2.80234299e-04 -8.94714684e-01\n",
      "  2.48497437e-01 -1.59289596e-02 -7.17529518e-01  8.47016998e-03\n",
      " -6.30286999e-01]\n",
      "Mean squared error: 27.59, Alpha is: 0.7\n",
      "---------------------------------------\n",
      "[-0.06479441  0.04581271 -0.          0.         -0.          1.17737271\n",
      "  0.011112   -0.73717556  0.23337442 -0.01550582 -0.69307422  0.00769147\n",
      " -0.69322155]\n",
      "Mean squared error: 28.95, Alpha is: 1\n",
      "---------------------------------------\n"
     ]
    }
   ],
   "source": [
    "boston_alpha = [0.1,0.2,0.5,0.7,1]\n",
    "for y in boston_alpha:\n",
    "    lasso = linear_model.Lasso(alpha=y)\n",
    "    lasso.fit(x_train, y_train)\n",
    "    y_pred = lasso.predict(x_test)\n",
    "    print (lasso.coef_)\n",
    "    print (\"Mean squared error: %.2f, Alpha is:\" % mean_squared_error(y_test, y_pred),y)\n",
    "    print (\"---------------------------------------\")"
   ]
  },
  {
   "cell_type": "markdown",
   "metadata": {},
   "source": [
    "### Ridge for boston"
   ]
  },
  {
   "cell_type": "code",
   "execution_count": 75,
   "metadata": {},
   "outputs": [],
   "source": [
    "# 讀取 boston 資料集\n",
    "boston = datasets.load_boston()\n",
    "x_train, x_test, y_train, y_test = train_test_split(boston.data, boston.target, test_size=0.2, random_state=4)"
   ]
  },
  {
   "cell_type": "code",
   "execution_count": 76,
   "metadata": {},
   "outputs": [
    {
     "name": "stdout",
     "output_type": "stream",
     "text": [
      "[-1.14125970e-01  4.72144095e-02  3.30466957e-03  3.20052271e+00\n",
      " -1.55057123e+01  3.88649056e+00 -1.19216295e-02 -1.52356227e+00\n",
      "  2.89503886e-01 -1.34748440e-02 -8.94652812e-01  8.97004994e-03\n",
      " -4.60013401e-01]\n",
      "Mean squared error: 25.41, Alpha is: 0.1\n",
      "---------------------------------------\n",
      "[-1.13594812e-01  4.73261361e-02 -1.35251700e-03  3.16637540e+00\n",
      " -1.44524864e+01  3.89458731e+00 -1.28672334e-02 -1.50809881e+00\n",
      "  2.86845788e-01 -1.35414397e-02 -8.83752369e-01  9.01959298e-03\n",
      " -4.61146953e-01]\n",
      "Mean squared error: 25.41, Alpha is: 0.2\n",
      "---------------------------------------\n",
      "[-1.12373330e-01  4.75957945e-02 -1.21313757e-02  3.07927664e+00\n",
      " -1.20045946e+01  3.91127736e+00 -1.50397455e-02 -1.47214216e+00\n",
      "  2.80775871e-01 -1.37010750e-02 -8.58607146e-01  9.13459022e-03\n",
      " -4.63973871e-01]\n",
      "Mean squared error: 25.41, Alpha is: 0.5\n",
      "---------------------------------------\n",
      "[-1.11774560e-01  4.77374686e-02 -1.74658359e-02  3.03026832e+00\n",
      " -1.07857080e+01  3.91799695e+00 -1.61027754e-02 -1.45422503e+00\n",
      "  2.77832865e-01 -1.37841253e-02 -8.46225742e-01  9.19171843e-03\n",
      " -4.65524465e-01]\n",
      "Mean squared error: 25.41, Alpha is: 0.7\n",
      "---------------------------------------\n",
      "[-1.11085562e-01  4.79127892e-02 -2.36686153e-02  2.96582333e+00\n",
      " -9.35915972e+00  3.92379527e+00 -1.73228057e-02 -1.43323726e+00\n",
      "  2.74489395e-01 -1.38858412e-02 -8.31911824e-01  9.25837299e-03\n",
      " -4.67523596e-01]\n",
      "Mean squared error: 25.41, Alpha is: 1\n",
      "---------------------------------------\n"
     ]
    }
   ],
   "source": [
    "boston_alpha2 = [0.1,0.2,0.5,0.7,1]\n",
    "for y1 in boston_alpha2:\n",
    "    ridge = linear_model.Ridge(alpha=y1)\n",
    "    ridge.fit(x_train, y_train)\n",
    "    y_pred = regr.predict(x_test)\n",
    "    print(ridge.coef_)\n",
    "    print(\"Mean squared error: %.2f, Alpha is:\"  % mean_squared_error(y_test, y_pred),y1)\n",
    "    print (\"---------------------------------------\")"
   ]
  },
  {
   "cell_type": "markdown",
   "metadata": {},
   "source": [
    "Ridge和原本的線性回歸沒有分別，但LASSO就差了。"
   ]
  },
  {
   "cell_type": "code",
   "execution_count": null,
   "metadata": {},
   "outputs": [],
   "source": []
  }
 ],
 "metadata": {
  "kernelspec": {
   "display_name": "Python 3",
   "language": "python",
   "name": "python3"
  },
  "language_info": {
   "codemirror_mode": {
    "name": "ipython",
    "version": 3
   },
   "file_extension": ".py",
   "mimetype": "text/x-python",
   "name": "python",
   "nbconvert_exporter": "python",
   "pygments_lexer": "ipython3",
   "version": "3.7.0"
  }
 },
 "nbformat": 4,
 "nbformat_minor": 2
}
