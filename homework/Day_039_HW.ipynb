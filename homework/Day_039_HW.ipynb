{
 "cells": [
  {
   "cell_type": "markdown",
   "metadata": {},
   "source": [
    "## [作業重點]\n",
    "清楚了解 L1, L2 的意義與差異為何，並了解 LASSO 與 Ridge 之間的差異與使用情境"
   ]
  },
  {
   "cell_type": "markdown",
   "metadata": {},
   "source": [
    "## 作業"
   ]
  },
  {
   "cell_type": "markdown",
   "metadata": {},
   "source": [
    "請閱讀相關文獻，並回答下列問題\n",
    "\n",
    "[脊回歸 (Ridge Regression)](https://blog.csdn.net/daunxx/article/details/51578787)\n",
    "[Linear, Ridge, Lasso Regression 本質區別](https://www.zhihu.com/question/38121173)\n",
    "\n",
    "1. LASSO 回歸可以被用來作為 Feature selection 的工具，請了解 LASSO 模型為什麼可用來作 Feature selection\n",
    "2. 當自變數 (X) 存在高度共線性時，Ridge Regression 可以處理這樣的問題嗎?\n"
   ]
  },
  {
   "cell_type": "markdown",
   "metadata": {},
   "source": [
    "1.\n",
    "除著變量增加，亦會增加噪音，會有 overfitting 出現。\n",
    "\n",
    "Shrinkage - 將一些影響小的參數將係數收縮為零\n",
    "\n",
    "Selection –識別與應對變量關聯的最重要的變量\n",
    "\n",
    "使用LASSO 回歸:\n",
    "更高的預測準確性,\n",
    "提高模型的可解釋性\n",
    "\n",
    "Lamdba調整:\n",
    "當alpha為0時，正進行OLS回歸，隨著alpha的增加，Bias 增加而variance 減小\n"
   ]
  },
  {
   "cell_type": "code",
   "execution_count": null,
   "metadata": {},
   "outputs": [],
   "source": [
    "所以當w係數相當大時，只要X一有一點點的小變動，所造成的結果就會因為w係數大，而結果差異大，造成模型不穩定的情況，因此脊回歸就是要修正這個問題。\n",
    "\n",
    "當數據特徵X中存在共線性，即相關性比較大的時候，會使得標準最小二乘求解不穩定，這個時候我們需要在cost function上添加一個懲罰項，而 Ridge Regression 只要它的係數β能向0「收縮」即可減小該變量對最終的影響。\n",
    "\n"
   ]
  },
  {
   "cell_type": "markdown",
   "metadata": {},
   "source": [
    "\n"
   ]
  }
 ],
 "metadata": {
  "kernelspec": {
   "display_name": "Python 3",
   "language": "python",
   "name": "python3"
  },
  "language_info": {
   "codemirror_mode": {
    "name": "ipython",
    "version": 3
   },
   "file_extension": ".py",
   "mimetype": "text/x-python",
   "name": "python",
   "nbconvert_exporter": "python",
   "pygments_lexer": "ipython3",
   "version": "3.7.0"
  }
 },
 "nbformat": 4,
 "nbformat_minor": 2
}
