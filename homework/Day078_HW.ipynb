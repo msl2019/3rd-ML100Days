{
 "cells": [
  {
   "cell_type": "markdown",
   "metadata": {},
   "source": [
    "## Work\n",
    "1. 請嘗試將 preproc_x 替換成以每筆資料的 min/max 進行標準化至 -1 ~ 1 間，再進行訓練\n",
    "2. 請嘗試將 mlp 疊更深 (e.g 5~10 層)，進行訓練後觀察 learning curve 的走勢\n",
    "3. (optional) 請改用 GPU 進行訓練 (如果你有 GPU 的話)，比較使用 CPU 與 GPU 的訓練速度"
   ]
  },
  {
   "cell_type": "code",
   "execution_count": 7,
   "metadata": {},
   "outputs": [
    {
     "data": {
      "text/plain": [
       "'\\nYour code here (optional)\\n確認硬體資源\\n'"
      ]
     },
     "execution_count": 7,
     "metadata": {},
     "output_type": "execute_result"
    }
   ],
   "source": [
    "## \n",
    "\"\"\"\n",
    "Your code here (optional)\n",
    "確認硬體資源\n",
    "\"\"\"\n"
   ]
  },
  {
   "cell_type": "code",
   "execution_count": 2,
   "metadata": {},
   "outputs": [
    {
     "name": "stderr",
     "output_type": "stream",
     "text": [
      "Using TensorFlow backend.\n"
     ]
    }
   ],
   "source": [
    "import os\n",
    "import keras\n",
    "\n",
    "# 請嘗試設定 GPU：os.environ\n",
    "os.environ[\"CUDA_VISIBLE_DEVICES\"] = \"\""
   ]
  },
  {
   "cell_type": "code",
   "execution_count": 3,
   "metadata": {},
   "outputs": [],
   "source": [
    "train, test = keras.datasets.cifar10.load_data()"
   ]
  },
  {
   "cell_type": "code",
   "execution_count": 4,
   "metadata": {},
   "outputs": [],
   "source": [
    "## 資料前處理\n",
    "\"\"\"\n",
    "Your code here\n",
    "\"\"\"\n",
    "def preproc_x(x, flatten=True):\n",
    "    x = x / 255.\n",
    "    if flatten:\n",
    "        x = x.reshape((len(x), -1))\n",
    "    return x\n",
    "\n",
    "def preproc_y(y, num_classes=10):\n",
    "    if y.shape[-1] == 1:\n",
    "        y = keras.utils.to_categorical(y, num_classes)\n",
    "    return y "
   ]
  },
  {
   "cell_type": "code",
   "execution_count": 5,
   "metadata": {},
   "outputs": [],
   "source": [
    "x_train, y_train = train\n",
    "x_test, y_test = test\n",
    "\n",
    "# Preproc the inputs\n",
    "x_train = preproc_x(x_train)\n",
    "x_test = preproc_x(x_test)\n",
    "\n",
    "# Preprc the outputs\n",
    "y_train = preproc_y(y_train)\n",
    "y_test = preproc_y(y_test)"
   ]
  },
  {
   "cell_type": "code",
   "execution_count": 6,
   "metadata": {},
   "outputs": [
    {
     "name": "stdout",
     "output_type": "stream",
     "text": [
      "Model: \"model_1\"\n",
      "_________________________________________________________________\n",
      "Layer (type)                 Output Shape              Param #   \n",
      "=================================================================\n",
      "input_1 (InputLayer)         (None, 3072)              0         \n",
      "_________________________________________________________________\n",
      "hidden_layer1 (Dense)        (None, 512)               1573376   \n",
      "_________________________________________________________________\n",
      "hidden_layer2 (Dense)        (None, 256)               131328    \n",
      "_________________________________________________________________\n",
      "hidden_layer3 (Dense)        (None, 128)               32896     \n",
      "_________________________________________________________________\n",
      "hidden_layer4 (Dense)        (None, 64)                8256      \n",
      "_________________________________________________________________\n",
      "hidden_layer5 (Dense)        (None, 32)                2080      \n",
      "_________________________________________________________________\n",
      "hidden_layer6 (Dense)        (None, 32)                1056      \n",
      "_________________________________________________________________\n",
      "output (Dense)               (None, 10)                330       \n",
      "=================================================================\n",
      "Total params: 1,749,322\n",
      "Trainable params: 1,749,322\n",
      "Non-trainable params: 0\n",
      "_________________________________________________________________\n"
     ]
    }
   ],
   "source": [
    "\"\"\"Code Here\n",
    "建立你的神經網路\n",
    "\"\"\"\n",
    "def build_mlp(input_shape, output_units=10, num_neurons=[512, 256, 128,64,32,32]):\n",
    "    input_layer = keras.layers.Input(input_shape)\n",
    "    \n",
    "    for i, n_units in enumerate(num_neurons):\n",
    "        if i == 0:\n",
    "            x = keras.layers.Dense(units=n_units, activation=\"relu\", name=\"hidden_layer\"+str(i+1))(input_layer)\n",
    "        else:\n",
    "            x = keras.layers.Dense(units=n_units, activation=\"relu\", name=\"hidden_layer\"+str(i+1))(x)\n",
    "    \n",
    "    out = keras.layers.Dense(units=output_units, activation=\"softmax\", name=\"output\")(x)\n",
    "    \n",
    "    model = keras.models.Model(inputs=[input_layer], outputs=[out])\n",
    "    return model\n",
    "model = build_mlp(input_shape=x_train.shape[1:])\n",
    "model.summary()"
   ]
  },
  {
   "cell_type": "code",
   "execution_count": 7,
   "metadata": {},
   "outputs": [],
   "source": [
    "## 超參數設定\n",
    "LEARNING_RATE = 0.001\n",
    "EPOCHS = 100\n",
    "BATCH_SIZE = 256"
   ]
  },
  {
   "cell_type": "code",
   "execution_count": 8,
   "metadata": {},
   "outputs": [],
   "source": [
    "optimizer = keras.optimizers.Adam(lr=LEARNING_RATE)\n",
    "model.compile(loss=\"categorical_crossentropy\", metrics=[\"accuracy\"], optimizer=optimizer)"
   ]
  },
  {
   "cell_type": "code",
   "execution_count": 9,
   "metadata": {},
   "outputs": [
    {
     "name": "stdout",
     "output_type": "stream",
     "text": [
      "Train on 50000 samples, validate on 10000 samples\n",
      "Epoch 1/100\n",
      "50000/50000 [==============================] - 21s 415us/step - loss: 2.0449 - accuracy: 0.2331 - val_loss: 1.8476 - val_accuracy: 0.3314\n",
      "Epoch 2/100\n",
      "50000/50000 [==============================] - 21s 416us/step - loss: 1.7959 - accuracy: 0.3470 - val_loss: 1.7109 - val_accuracy: 0.3832\n",
      "Epoch 3/100\n",
      "50000/50000 [==============================] - 21s 416us/step - loss: 1.7079 - accuracy: 0.3833 - val_loss: 1.6664 - val_accuracy: 0.3915\n",
      "Epoch 4/100\n",
      "50000/50000 [==============================] - 21s 419us/step - loss: 1.6334 - accuracy: 0.4103 - val_loss: 1.6019 - val_accuracy: 0.4218\n",
      "Epoch 5/100\n",
      "50000/50000 [==============================] - 22s 430us/step - loss: 1.5847 - accuracy: 0.4286 - val_loss: 1.5642 - val_accuracy: 0.4399\n",
      "Epoch 6/100\n",
      "50000/50000 [==============================] - 21s 421us/step - loss: 1.5268 - accuracy: 0.4541 - val_loss: 1.5539 - val_accuracy: 0.4462\n",
      "Epoch 7/100\n",
      "50000/50000 [==============================] - 21s 420us/step - loss: 1.4984 - accuracy: 0.4653 - val_loss: 1.5253 - val_accuracy: 0.4618\n",
      "Epoch 8/100\n",
      "50000/50000 [==============================] - 21s 423us/step - loss: 1.4596 - accuracy: 0.4779 - val_loss: 1.5209 - val_accuracy: 0.4475\n",
      "Epoch 9/100\n",
      "50000/50000 [==============================] - 21s 415us/step - loss: 1.4333 - accuracy: 0.4864 - val_loss: 1.4583 - val_accuracy: 0.4750\n",
      "Epoch 10/100\n",
      "50000/50000 [==============================] - 21s 418us/step - loss: 1.4010 - accuracy: 0.4979 - val_loss: 1.4321 - val_accuracy: 0.4838\n",
      "Epoch 11/100\n",
      "50000/50000 [==============================] - 21s 421us/step - loss: 1.3728 - accuracy: 0.5069 - val_loss: 1.4229 - val_accuracy: 0.4950\n",
      "Epoch 12/100\n",
      "50000/50000 [==============================] - 21s 422us/step - loss: 1.3470 - accuracy: 0.5180 - val_loss: 1.4203 - val_accuracy: 0.5029\n",
      "Epoch 13/100\n",
      "50000/50000 [==============================] - 21s 422us/step - loss: 1.3306 - accuracy: 0.5238 - val_loss: 1.4267 - val_accuracy: 0.4957\n",
      "Epoch 14/100\n",
      "50000/50000 [==============================] - 21s 428us/step - loss: 1.3064 - accuracy: 0.5371 - val_loss: 1.4198 - val_accuracy: 0.4971\n",
      "Epoch 15/100\n",
      "50000/50000 [==============================] - 21s 427us/step - loss: 1.2818 - accuracy: 0.5459 - val_loss: 1.3925 - val_accuracy: 0.5051\n",
      "Epoch 16/100\n",
      "50000/50000 [==============================] - 21s 427us/step - loss: 1.2547 - accuracy: 0.5517 - val_loss: 1.3831 - val_accuracy: 0.5096\n",
      "Epoch 17/100\n",
      "50000/50000 [==============================] - 21s 426us/step - loss: 1.2346 - accuracy: 0.5577 - val_loss: 1.3998 - val_accuracy: 0.5043\n",
      "Epoch 18/100\n",
      "50000/50000 [==============================] - 21s 427us/step - loss: 1.2200 - accuracy: 0.5641 - val_loss: 1.3969 - val_accuracy: 0.5099\n",
      "Epoch 19/100\n",
      "50000/50000 [==============================] - 26s 515us/step - loss: 1.1972 - accuracy: 0.5731 - val_loss: 1.3776 - val_accuracy: 0.5136\n",
      "Epoch 20/100\n",
      "50000/50000 [==============================] - 22s 436us/step - loss: 1.1810 - accuracy: 0.5775 - val_loss: 1.4062 - val_accuracy: 0.5021\n",
      "Epoch 21/100\n",
      "50000/50000 [==============================] - 22s 437us/step - loss: 1.1553 - accuracy: 0.5863 - val_loss: 1.3701 - val_accuracy: 0.5230\n",
      "Epoch 22/100\n",
      "50000/50000 [==============================] - 25s 501us/step - loss: 1.1306 - accuracy: 0.5948 - val_loss: 1.4267 - val_accuracy: 0.5131\n",
      "Epoch 23/100\n",
      "50000/50000 [==============================] - 22s 439us/step - loss: 1.1254 - accuracy: 0.5969 - val_loss: 1.3895 - val_accuracy: 0.5133\n",
      "Epoch 24/100\n",
      "50000/50000 [==============================] - 26s 516us/step - loss: 1.0987 - accuracy: 0.6052 - val_loss: 1.4493 - val_accuracy: 0.5039\n",
      "Epoch 25/100\n",
      "50000/50000 [==============================] - 21s 421us/step - loss: 1.0908 - accuracy: 0.6105 - val_loss: 1.3941 - val_accuracy: 0.5133\n",
      "Epoch 26/100\n",
      "50000/50000 [==============================] - 25s 503us/step - loss: 1.0610 - accuracy: 0.6204 - val_loss: 1.4147 - val_accuracy: 0.5166\n",
      "Epoch 27/100\n",
      "50000/50000 [==============================] - 21s 426us/step - loss: 1.0529 - accuracy: 0.6235 - val_loss: 1.4416 - val_accuracy: 0.5126\n",
      "Epoch 28/100\n",
      "50000/50000 [==============================] - 26s 525us/step - loss: 1.0339 - accuracy: 0.6297 - val_loss: 1.4094 - val_accuracy: 0.5209\n",
      "Epoch 29/100\n",
      "50000/50000 [==============================] - 21s 430us/step - loss: 1.0115 - accuracy: 0.6371 - val_loss: 1.4280 - val_accuracy: 0.5166\n",
      "Epoch 30/100\n",
      "50000/50000 [==============================] - 26s 511us/step - loss: 0.9990 - accuracy: 0.6417 - val_loss: 1.3910 - val_accuracy: 0.5290\n",
      "Epoch 31/100\n",
      "50000/50000 [==============================] - 24s 484us/step - loss: 0.9851 - accuracy: 0.6485 - val_loss: 1.4609 - val_accuracy: 0.5153\n",
      "Epoch 32/100\n",
      "50000/50000 [==============================] - 23s 460us/step - loss: 0.9662 - accuracy: 0.6549 - val_loss: 1.4517 - val_accuracy: 0.5160\n",
      "Epoch 33/100\n",
      "50000/50000 [==============================] - 21s 430us/step - loss: 0.9454 - accuracy: 0.6597 - val_loss: 1.4187 - val_accuracy: 0.5257\n",
      "Epoch 34/100\n",
      "50000/50000 [==============================] - 28s 568us/step - loss: 0.9441 - accuracy: 0.6632 - val_loss: 1.4683 - val_accuracy: 0.5230\n",
      "Epoch 35/100\n",
      "50000/50000 [==============================] - 22s 434us/step - loss: 0.9212 - accuracy: 0.6704 - val_loss: 1.4583 - val_accuracy: 0.5241\n",
      "Epoch 36/100\n",
      "50000/50000 [==============================] - 27s 535us/step - loss: 0.9016 - accuracy: 0.6781 - val_loss: 1.5102 - val_accuracy: 0.5153\n",
      "Epoch 37/100\n",
      "50000/50000 [==============================] - 29s 583us/step - loss: 0.8879 - accuracy: 0.6816 - val_loss: 1.4904 - val_accuracy: 0.5176\n",
      "Epoch 38/100\n",
      "50000/50000 [==============================] - 24s 471us/step - loss: 0.8791 - accuracy: 0.6867 - val_loss: 1.4962 - val_accuracy: 0.5201\n",
      "Epoch 39/100\n",
      "50000/50000 [==============================] - 25s 505us/step - loss: 0.8619 - accuracy: 0.6919 - val_loss: 1.5211 - val_accuracy: 0.5069\n",
      "Epoch 40/100\n",
      "50000/50000 [==============================] - 24s 473us/step - loss: 0.8482 - accuracy: 0.6979 - val_loss: 1.5086 - val_accuracy: 0.5153\n",
      "Epoch 41/100\n",
      "50000/50000 [==============================] - 23s 465us/step - loss: 0.8430 - accuracy: 0.6976 - val_loss: 1.5504 - val_accuracy: 0.5084\n",
      "Epoch 42/100\n",
      "50000/50000 [==============================] - 29s 577us/step - loss: 0.8143 - accuracy: 0.7076 - val_loss: 1.5408 - val_accuracy: 0.5197\n",
      "Epoch 43/100\n",
      "50000/50000 [==============================] - 26s 530us/step - loss: 0.8035 - accuracy: 0.7119 - val_loss: 1.6027 - val_accuracy: 0.5121\n",
      "Epoch 44/100\n",
      "50000/50000 [==============================] - 31s 628us/step - loss: 0.7881 - accuracy: 0.7174 - val_loss: 1.6106 - val_accuracy: 0.5126\n",
      "Epoch 45/100\n",
      "50000/50000 [==============================] - 26s 519us/step - loss: 0.7783 - accuracy: 0.7217 - val_loss: 1.6184 - val_accuracy: 0.5203\n",
      "Epoch 46/100\n",
      "50000/50000 [==============================] - 29s 577us/step - loss: 0.7599 - accuracy: 0.7280 - val_loss: 1.5944 - val_accuracy: 0.5156\n",
      "Epoch 47/100\n",
      "50000/50000 [==============================] - 31s 610us/step - loss: 0.7473 - accuracy: 0.7345 - val_loss: 1.6702 - val_accuracy: 0.5215\n",
      "Epoch 48/100\n",
      "50000/50000 [==============================] - 29s 575us/step - loss: 0.7522 - accuracy: 0.7310 - val_loss: 1.7070 - val_accuracy: 0.5085\n",
      "Epoch 49/100\n",
      "50000/50000 [==============================] - 28s 568us/step - loss: 0.7257 - accuracy: 0.7412 - val_loss: 1.6784 - val_accuracy: 0.5153\n",
      "Epoch 50/100\n",
      "50000/50000 [==============================] - 27s 545us/step - loss: 0.7144 - accuracy: 0.7444 - val_loss: 1.6753 - val_accuracy: 0.5186\n",
      "Epoch 51/100\n",
      "50000/50000 [==============================] - 33s 665us/step - loss: 0.7145 - accuracy: 0.7436 - val_loss: 1.7454 - val_accuracy: 0.5156\n",
      "Epoch 52/100\n",
      "50000/50000 [==============================] - 23s 459us/step - loss: 0.6874 - accuracy: 0.7555 - val_loss: 1.7481 - val_accuracy: 0.5135\n",
      "Epoch 53/100\n",
      "50000/50000 [==============================] - 31s 624us/step - loss: 0.6751 - accuracy: 0.7591 - val_loss: 1.7881 - val_accuracy: 0.5015\n",
      "Epoch 54/100\n",
      "50000/50000 [==============================] - 23s 457us/step - loss: 0.6684 - accuracy: 0.7606 - val_loss: 1.7857 - val_accuracy: 0.5086\n"
     ]
    },
    {
     "name": "stdout",
     "output_type": "stream",
     "text": [
      "Epoch 55/100\n",
      "50000/50000 [==============================] - 31s 620us/step - loss: 0.6588 - accuracy: 0.7662 - val_loss: 1.8013 - val_accuracy: 0.5082\n",
      "Epoch 56/100\n",
      "50000/50000 [==============================] - 22s 433us/step - loss: 0.6451 - accuracy: 0.7699 - val_loss: 1.8491 - val_accuracy: 0.5126\n",
      "Epoch 57/100\n",
      "50000/50000 [==============================] - 35s 699us/step - loss: 0.6361 - accuracy: 0.7711 - val_loss: 1.8290 - val_accuracy: 0.5122\n",
      "Epoch 58/100\n",
      "50000/50000 [==============================] - 25s 495us/step - loss: 0.6337 - accuracy: 0.7723 - val_loss: 1.9169 - val_accuracy: 0.5062\n",
      "Epoch 59/100\n",
      "50000/50000 [==============================] - 33s 657us/step - loss: 0.6203 - accuracy: 0.7794 - val_loss: 1.8538 - val_accuracy: 0.5116\n",
      "Epoch 60/100\n",
      "50000/50000 [==============================] - 25s 498us/step - loss: 0.6234 - accuracy: 0.7758 - val_loss: 1.9041 - val_accuracy: 0.5114\n",
      "Epoch 61/100\n",
      "50000/50000 [==============================] - 32s 635us/step - loss: 0.6162 - accuracy: 0.7803 - val_loss: 1.9228 - val_accuracy: 0.5009\n",
      "Epoch 62/100\n",
      "50000/50000 [==============================] - 29s 584us/step - loss: 0.5931 - accuracy: 0.7891 - val_loss: 1.9886 - val_accuracy: 0.5025\n",
      "Epoch 63/100\n",
      "50000/50000 [==============================] - 27s 531us/step - loss: 0.5790 - accuracy: 0.7939 - val_loss: 2.0301 - val_accuracy: 0.5106\n",
      "Epoch 64/100\n",
      "50000/50000 [==============================] - 31s 614us/step - loss: 0.5715 - accuracy: 0.7944 - val_loss: 2.0858 - val_accuracy: 0.4942\n",
      "Epoch 65/100\n",
      "50000/50000 [==============================] - 30s 593us/step - loss: 0.5712 - accuracy: 0.7946 - val_loss: 2.0188 - val_accuracy: 0.5080\n",
      "Epoch 66/100\n",
      "50000/50000 [==============================] - 34s 681us/step - loss: 0.5400 - accuracy: 0.8058 - val_loss: 2.1511 - val_accuracy: 0.5095\n",
      "Epoch 67/100\n",
      "50000/50000 [==============================] - 28s 570us/step - loss: 0.5501 - accuracy: 0.8029 - val_loss: 2.0830 - val_accuracy: 0.5111\n",
      "Epoch 68/100\n",
      "50000/50000 [==============================] - 28s 569us/step - loss: 0.5265 - accuracy: 0.8118 - val_loss: 2.1347 - val_accuracy: 0.5030\n",
      "Epoch 69/100\n",
      "50000/50000 [==============================] - 30s 590us/step - loss: 0.5365 - accuracy: 0.8081 - val_loss: 2.1087 - val_accuracy: 0.5072\n",
      "Epoch 70/100\n",
      "50000/50000 [==============================] - 26s 518us/step - loss: 0.5193 - accuracy: 0.8138 - val_loss: 2.1784 - val_accuracy: 0.5024\n",
      "Epoch 71/100\n",
      "50000/50000 [==============================] - 26s 516us/step - loss: 0.5187 - accuracy: 0.8153 - val_loss: 2.2248 - val_accuracy: 0.5019\n",
      "Epoch 72/100\n",
      "50000/50000 [==============================] - 29s 585us/step - loss: 0.5191 - accuracy: 0.8149 - val_loss: 2.2778 - val_accuracy: 0.5011\n",
      "Epoch 73/100\n",
      "50000/50000 [==============================] - 25s 508us/step - loss: 0.5199 - accuracy: 0.8138 - val_loss: 2.1795 - val_accuracy: 0.5095\n",
      "Epoch 74/100\n",
      "50000/50000 [==============================] - 27s 533us/step - loss: 0.4963 - accuracy: 0.8201 - val_loss: 2.3247 - val_accuracy: 0.4911\n",
      "Epoch 75/100\n",
      "50000/50000 [==============================] - 28s 551us/step - loss: 0.4735 - accuracy: 0.8308 - val_loss: 2.2609 - val_accuracy: 0.5077\n",
      "Epoch 76/100\n",
      "50000/50000 [==============================] - 28s 555us/step - loss: 0.4909 - accuracy: 0.8233 - val_loss: 2.3640 - val_accuracy: 0.4967\n",
      "Epoch 77/100\n",
      "50000/50000 [==============================] - 24s 481us/step - loss: 0.4840 - accuracy: 0.8269 - val_loss: 2.3305 - val_accuracy: 0.5030\n",
      "Epoch 78/100\n",
      "50000/50000 [==============================] - 28s 561us/step - loss: 0.4897 - accuracy: 0.8232 - val_loss: 2.3313 - val_accuracy: 0.5101\n",
      "Epoch 79/100\n",
      "50000/50000 [==============================] - 29s 581us/step - loss: 0.4625 - accuracy: 0.8351 - val_loss: 2.3386 - val_accuracy: 0.5055\n",
      "Epoch 80/100\n",
      "50000/50000 [==============================] - 24s 479us/step - loss: 0.4688 - accuracy: 0.8325 - val_loss: 2.3069 - val_accuracy: 0.5032\n",
      "Epoch 81/100\n",
      "50000/50000 [==============================] - 33s 660us/step - loss: 0.4407 - accuracy: 0.8429 - val_loss: 2.3969 - val_accuracy: 0.5067\n",
      "Epoch 82/100\n",
      "50000/50000 [==============================] - 29s 570us/step - loss: 0.4267 - accuracy: 0.8473 - val_loss: 2.5035 - val_accuracy: 0.4946\n",
      "Epoch 83/100\n",
      "50000/50000 [==============================] - 31s 618us/step - loss: 0.4445 - accuracy: 0.8408 - val_loss: 2.4220 - val_accuracy: 0.4995\n",
      "Epoch 84/100\n",
      "50000/50000 [==============================] - 31s 628us/step - loss: 0.4293 - accuracy: 0.8454 - val_loss: 2.5101 - val_accuracy: 0.5014\n",
      "Epoch 85/100\n",
      "50000/50000 [==============================] - 32s 634us/step - loss: 0.4501 - accuracy: 0.8394 - val_loss: 2.4572 - val_accuracy: 0.5041\n",
      "Epoch 86/100\n",
      "50000/50000 [==============================] - 35s 707us/step - loss: 0.3971 - accuracy: 0.8586 - val_loss: 2.5475 - val_accuracy: 0.5033\n",
      "Epoch 87/100\n",
      "50000/50000 [==============================] - 31s 621us/step - loss: 0.4083 - accuracy: 0.8543 - val_loss: 2.6234 - val_accuracy: 0.5004\n",
      "Epoch 88/100\n",
      "50000/50000 [==============================] - 32s 639us/step - loss: 0.4296 - accuracy: 0.8459 - val_loss: 2.5980 - val_accuracy: 0.5015\n",
      "Epoch 89/100\n",
      "50000/50000 [==============================] - 37s 743us/step - loss: 0.4102 - accuracy: 0.8543 - val_loss: 2.6826 - val_accuracy: 0.4980\n",
      "Epoch 90/100\n",
      "50000/50000 [==============================] - 28s 559us/step - loss: 0.4016 - accuracy: 0.8550 - val_loss: 2.7290 - val_accuracy: 0.5004\n",
      "Epoch 91/100\n",
      "50000/50000 [==============================] - 39s 782us/step - loss: 0.4124 - accuracy: 0.8537 - val_loss: 2.6893 - val_accuracy: 0.4991\n",
      "Epoch 92/100\n",
      "50000/50000 [==============================] - 29s 574us/step - loss: 0.3757 - accuracy: 0.8662 - val_loss: 2.7081 - val_accuracy: 0.5013\n",
      "Epoch 93/100\n",
      "50000/50000 [==============================] - 31s 627us/step - loss: 0.3925 - accuracy: 0.8591 - val_loss: 2.7397 - val_accuracy: 0.5054\n",
      "Epoch 94/100\n",
      "50000/50000 [==============================] - 29s 574us/step - loss: 0.3972 - accuracy: 0.8573 - val_loss: 2.7481 - val_accuracy: 0.5002\n",
      "Epoch 95/100\n",
      "50000/50000 [==============================] - 24s 489us/step - loss: 0.3814 - accuracy: 0.8624 - val_loss: 2.7272 - val_accuracy: 0.5011\n",
      "Epoch 96/100\n",
      "50000/50000 [==============================] - 32s 645us/step - loss: 0.3839 - accuracy: 0.8630 - val_loss: 2.7358 - val_accuracy: 0.5032\n",
      "Epoch 97/100\n",
      "50000/50000 [==============================] - 23s 458us/step - loss: 0.3888 - accuracy: 0.8609 - val_loss: 2.6749 - val_accuracy: 0.5058\n",
      "Epoch 98/100\n",
      "50000/50000 [==============================] - 32s 633us/step - loss: 0.3659 - accuracy: 0.8694 - val_loss: 2.7645 - val_accuracy: 0.5030\n",
      "Epoch 99/100\n",
      "50000/50000 [==============================] - 22s 446us/step - loss: 0.3530 - accuracy: 0.8732 - val_loss: 2.8628 - val_accuracy: 0.5021\n",
      "Epoch 100/100\n",
      "50000/50000 [==============================] - 30s 596us/step - loss: 0.3820 - accuracy: 0.8645 - val_loss: 2.7633 - val_accuracy: 0.5045\n"
     ]
    },
    {
     "data": {
      "text/plain": [
       "<keras.callbacks.callbacks.History at 0x1e3c23c8>"
      ]
     },
     "execution_count": 9,
     "metadata": {},
     "output_type": "execute_result"
    }
   ],
   "source": [
    "model.fit(x_train, y_train, \n",
    "          epochs=EPOCHS, \n",
    "          batch_size=BATCH_SIZE, \n",
    "          validation_data=(x_test, y_test), \n",
    "          shuffle=True)"
   ]
  },
  {
   "cell_type": "code",
   "execution_count": 11,
   "metadata": {},
   "outputs": [
    {
     "data": {
      "image/png": "[encoded data removed]",
      "text/plain": [
       "<Figure size 432x288 with 1 Axes>"
      ]
     },
     "metadata": {
      "needs_background": "light"
     },
     "output_type": "display_data"
    },
    {
     "data": {
      "image/png": "[encoded data removed]",
      "text/plain": [
       "<Figure size 432x288 with 1 Axes>"
      ]
     },
     "metadata": {
      "needs_background": "light"
     },
     "output_type": "display_data"
    }
   ],
   "source": [
    "import matplotlib.pyplot as plt\n",
    "\n",
    "\n",
    "train_loss = model.history.history[\"loss\"]\n",
    "valid_loss = model.history.history[\"val_loss\"]\n",
    "\n",
    "train_acc = model.history.history[\"accuracy\"]\n",
    "valid_acc = model.history.history[\"val_accuracy\"]\n",
    "\n",
    "plt.plot(range(len(train_loss)), train_loss, label=\"train loss\")\n",
    "plt.plot(range(len(valid_loss)), valid_loss, label=\"valid loss\")\n",
    "plt.legend()\n",
    "plt.title(\"Loss\")\n",
    "plt.show()\n",
    "\n",
    "plt.plot(range(len(train_acc)), train_acc, label=\"train accuracy\")\n",
    "plt.plot(range(len(valid_acc)), valid_acc, label=\"valid accuracy\")\n",
    "plt.legend()\n",
    "plt.title(\"Accuracy\")\n",
    "plt.show()"
   ]
  }
 ],
 "metadata": {
  "kernelspec": {
   "display_name": "Python 3",
   "language": "python",
   "name": "python3"
  },
  "language_info": {
   "codemirror_mode": {
    "name": "ipython",
    "version": 3
   },
   "file_extension": ".py",
   "mimetype": "text/x-python",
   "name": "python",
   "nbconvert_exporter": "python",
   "pygments_lexer": "ipython3",
   "version": "3.7.0"
  }
 },
 "nbformat": 4,
 "nbformat_minor": 2
}
