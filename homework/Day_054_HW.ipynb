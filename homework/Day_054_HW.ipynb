{
 "cells": [
  {
   "cell_type": "markdown",
   "metadata": {},
   "source": [
    "# 作業\n",
    "* 試著想想看, 非監督學習是否有可能使用評價函數 (Metric) 來鑑別好壞呢?  \n",
    "(Hint : 可以分為 \"有目標值\" 與 \"無目標值\" 兩個方向思考)"
   ]
  },
  {
   "cell_type": "markdown",
   "metadata": {
    "collapsed": true
   },
   "source": [
    "非監督學習的聚類方法的基礎是測量數據之間的距離或相似性，即距離量度，距離度量可以是任何可測量的數據，例如天文星體溫度的差異，量度兩點之間的最短距離。 與聚類方法相關的問題都試圖將數據分為相等的組。\n",
    "\n",
    "\n",
    "有目標值是可以。\n",
    "例如：餐廳顧客點餐分析，可以從非監督學習Metric 觀察光顧客戶等個人資料，如年齡、性別等，和其他特徵，如平日、假日、價錢等，來進行分析。\n",
    "\n",
    "無目標值不可以。"
   ]
  }
 ],
 "metadata": {
  "kernelspec": {
   "display_name": "Python 3",
   "language": "python",
   "name": "python3"
  },
  "language_info": {
   "codemirror_mode": {
    "name": "ipython",
    "version": 3
   },
   "file_extension": ".py",
   "mimetype": "text/x-python",
   "name": "python",
   "nbconvert_exporter": "python",
   "pygments_lexer": "ipython3",
   "version": "3.7.0"
  }
 },
 "nbformat": 4,
 "nbformat_minor": 1
}
